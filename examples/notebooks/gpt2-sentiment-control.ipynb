{
 "cells": [
  {
   "cell_type": "markdown",
   "metadata": {},
   "source": [
    "# Tune GPT2 to generate controlled sentiment reviews\n",
    "> Optimise GPT2 to produce IMDB movie reviews with controlled sentiment using a BERT sentiment classifier for rewards."
   ]
  },
  {
   "cell_type": "markdown",
   "metadata": {},
   "source": [
    "> warning: This notebook uses version `trl==0.0.3`."
   ]
  },
  {
   "cell_type": "markdown",
   "metadata": {},
   "source": [
    "<div style=\"text-align: center\">\n",
    "<img src='https://huggingface.co/datasets/trl-internal-testing/example-images/resolve/main/images/gpt2-ctrl-training-setup.png' width='600'>\n",
    "<p style=\"text-align: center;\"> <b>Figure:</b> Experiment setup to tune GPT2. The yellow arrows are outside the scope of this notebook, but the trained models are available through Hugging Face. </p>\n",
    "</div>\n",
    "\n",
    "\n",
    "The experiment setup is very similar to the positive sentiment notebook. However, in this notebook we fine-tune GPT2 (small) to generate **controlled** movie reviews based on the IMDB dataset. The model gets the target sentiment and 5 tokens from a real review and is tasked to produce continuations with the targeted sentiment. The reward for the continuations is calculated with the logits of a BERT sentiment classifier. That reward is then used for PPO training."
   ]
  },
  {
   "cell_type": "markdown",
   "metadata": {},
   "source": [
    "## Setup experiment"
   ]
  },
  {
   "cell_type": "markdown",
   "metadata": {},
   "source": [
    "### Import dependencies"
   ]
  },
  {
   "cell_type": "code",
   "execution_count": null,
   "metadata": {},
   "outputs": [],
   "source": [
    "%load_ext autoreload\n",
    "%autoreload 2"
   ]
  },
  {
   "cell_type": "code",
   "execution_count": null,
   "metadata": {},
   "outputs": [],
   "source": [
    "import torch\n",
    "import wandb\n",
    "import time\n",
    "import os\n",
    "from tqdm import tqdm\n",
    "import numpy as np\n",
    "import pandas as pd\n",
    "from random import choices\n",
    "import matplotlib.pyplot as plt\n",
    "tqdm.pandas()\n",
    "\n",
    "from datasets import load_dataset\n",
    "\n",
    "from transformers import GPT2Tokenizer\n",
    "from transformers import AutoModelForSequenceClassification, AutoTokenizer\n",
    "\n",
    "from trl.gpt2 import GPT2HeadWithValueModel, respond_to_batch\n",
    "from trl.ppo import PPOTrainer\n",
    "from trl.core import build_bert_batch_from_txt"
   ]
  },
  {
   "cell_type": "markdown",
   "metadata": {},
   "source": [
    "### Configuration"
   ]
  },
  {
   "cell_type": "code",
   "execution_count": null,
   "metadata": {},
   "outputs": [],
   "source": [
    "config = {\n",
    "    \"lm_name\": \"lvwerra/gpt2-imdb\",\n",
    "    \"ref_lm_name\": \"lvwerra/gpt2-imdb\",\n",
    "    \"cls_model_name\": \"lvwerra/distilbert-imdb\",\n",
    "    \"tk_name\": \"gpt2\",\n",
    "    \"steps\": 51200,\n",
    "    \"batch_size\": 256,\n",
    "    \"forward_batch_size\": 16,\n",
    "    \"ppo_epochs\": 4,   \n",
    "    \"txt_in_len\": 5,\n",
    "    \"txt_out_len\": 20,\n",
    "    \"lr\": 1.41e-5,\n",
    "    \"init_kl_coef\":0.2,\n",
    "    \"target\": 6,\n",
    "    \"horizon\":10000,\n",
    "    \"gamma\":1,\n",
    "    \"lam\":0.95,\n",
    "    \"cliprange\": .2,\n",
    "    \"cliprange_value\":.2,\n",
    "    \"vf_coef\":.1, \n",
    "    \"seed\": 1,\n",
    "}"
   ]
  },
  {
   "cell_type": "code",
   "execution_count": null,
   "metadata": {},
   "outputs": [],
   "source": [
    "np.random.seed(config['seed'])"
   ]
  },
  {
   "cell_type": "markdown",
   "metadata": {},
   "source": [
    "You can see that we load a GPT2 model called `gpt2_imdb`. This model was additionally fine-tuned on the IMDB dataset for 1 epoch with the huggingface [script](https://github.com/huggingface/transformers/blob/master/examples/run_language_modeling.py) (no special settings). The other parameters are mostly taken from the original paper [\"Fine-Tuning Language Models from Human Preferences\"](\n",
    "https://arxiv.org/pdf/1909.08593.pdf). This model as well as the BERT model is available in the Huggingface model zoo [here](https://huggingface.co/models). The following code should automatically download the models."
   ]
  },
  {
   "cell_type": "markdown",
   "metadata": {},
   "source": [
    "### Initialize W&B logger\n",
    "We use `wandb`to log all the metrics during training."
   ]
  },
  {
   "cell_type": "code",
   "execution_count": null,
   "metadata": {},
   "outputs": [
    {
     "data": {
      "text/html": [
       "\n",
       "                Logging results to <a href=\"https://wandb.com\" target=\"_blank\">Weights & Biases</a> <a href=\"https://docs.wandb.com/integrations/jupyter.html\" target=\"_blank\">(Documentation)</a>.<br/>\n",
       "                Project page: <a href=\"https://app.wandb.ai/lvwerra/gpt2-ctrl\" target=\"_blank\">https://app.wandb.ai/lvwerra/gpt2-ctrl</a><br/>\n",
       "                Run page: <a href=\"https://app.wandb.ai/lvwerra/gpt2-ctrl/runs/o4rhjdu9\" target=\"_blank\">https://app.wandb.ai/lvwerra/gpt2-ctrl/runs/o4rhjdu9</a><br/>\n",
       "            "
      ],
      "text/plain": [
       "<IPython.core.display.HTML object>"
      ]
     },
     "metadata": {},
     "output_type": "display_data"
    },
    {
     "name": "stderr",
     "output_type": "stream",
     "text": [
      "\u001b[34m\u001b[1mwandb\u001b[0m: Wandb version 0.8.32 is available!  To upgrade, please run:\n",
      "\u001b[34m\u001b[1mwandb\u001b[0m:  $ pip install wandb --upgrade\n"
     ]
    },
    {
     "data": {
      "text/plain": [
       "W&B Run: https://app.wandb.ai/lvwerra/gpt2-ctrl/runs/o4rhjdu9"
      ]
     },
     "execution_count": null,
     "metadata": {},
     "output_type": "execute_result"
    }
   ],
   "source": [
    "wandb.init(name='long-response', project='gpt2-ctrl', config=config)"
   ]
  },
  {
   "cell_type": "markdown",
   "metadata": {},
   "source": [
    "## Load data and models"
   ]
  },
  {
   "cell_type": "markdown",
   "metadata": {},
   "source": [
    "### Load IMDB dataset\n",
    "The IMDB dataset contains 50k movie review annotated with \"positive\"/\"negative\" feedback indicating the sentiment.  We load the IMDB dataset into a DataFrame and filter for comments that are at least 500 characters long and take the first 1000 characters of each comment. The first filter we apply to avoid comments that are less than `txt_in_len` token long and the second to avoid tokenizing way more text than we actually need."
   ]
  },
  {
   "cell_type": "code",
   "execution_count": null,
   "metadata": {},
   "outputs": [
    {
     "data": {
      "text/html": [
       "<div>\n",
       "<style scoped>\n",
       "    .dataframe tbody tr th:only-of-type {\n",
       "        vertical-align: middle;\n",
       "    }\n",
       "\n",
       "    .dataframe tbody tr th {\n",
       "        vertical-align: top;\n",
       "    }\n",
       "\n",
       "    .dataframe thead th {\n",
       "        text-align: right;\n",
       "    }\n",
       "</style>\n",
       "<table border=\"1\" class=\"dataframe\">\n",
       "  <thead>\n",
       "    <tr style=\"text-align: right;\">\n",
       "      <th></th>\n",
       "      <th>review</th>\n",
       "      <th>sentiment</th>\n",
       "    </tr>\n",
       "  </thead>\n",
       "  <tbody>\n",
       "    <tr>\n",
       "      <th>0</th>\n",
       "      <td>One of the other reviewers has mentioned that ...</td>\n",
       "      <td>positive</td>\n",
       "    </tr>\n",
       "    <tr>\n",
       "      <th>1</th>\n",
       "      <td>A wonderful little production. &lt;br /&gt;&lt;br /&gt;The...</td>\n",
       "      <td>positive</td>\n",
       "    </tr>\n",
       "    <tr>\n",
       "      <th>2</th>\n",
       "      <td>I thought this was a wonderful way to spend ti...</td>\n",
       "      <td>positive</td>\n",
       "    </tr>\n",
       "    <tr>\n",
       "      <th>3</th>\n",
       "      <td>Basically there's a family where a little boy ...</td>\n",
       "      <td>negative</td>\n",
       "    </tr>\n",
       "    <tr>\n",
       "      <th>4</th>\n",
       "      <td>Petter Mattei's \"Love in the Time of Money\" is...</td>\n",
       "      <td>positive</td>\n",
       "    </tr>\n",
       "  </tbody>\n",
       "</table>\n",
       "</div>"
      ],
      "text/plain": [
       "                                              review sentiment\n",
       "0  One of the other reviewers has mentioned that ...  positive\n",
       "1  A wonderful little production. <br /><br />The...  positive\n",
       "2  I thought this was a wonderful way to spend ti...  positive\n",
       "3  Basically there's a family where a little boy ...  negative\n",
       "4  Petter Mattei's \"Love in the Time of Money\" is...  positive"
      ]
     },
     "execution_count": null,
     "metadata": {},
     "output_type": "execute_result"
    }
   ],
   "source": [
    "# load imdb with datasets\n",
    "ds = load_dataset('imdb', split='train')\n",
    "ds = ds.rename_columns({'text': 'review', 'label': 'sentiment'})\n",
    "ds.set_format('pandas')\n",
    "df = ds[:]\n",
    "\n",
    "# make sure the comments are long enough\n",
    "df = df.loc[df['review'].str.len() > 500]\n",
    "\n",
    "# make sure comments are not too long\n",
    "df['review'] = df['review'].apply(lambda x: x[:1000])\n",
    "\n",
    "df.head()"
   ]
  },
  {
   "cell_type": "markdown",
   "metadata": {},
   "source": [
    "### Load BERT classifier\n",
    "We load a BERT classifier fine-tuned on the IMDB dataset."
   ]
  },
  {
   "cell_type": "code",
   "execution_count": null,
   "metadata": {},
   "outputs": [],
   "source": [
    "sentiment_model = AutoModelForSequenceClassification.from_pretrained(config[\"cls_model_name\"])\n",
    "sentiment_tokenizer = AutoTokenizer.from_pretrained(config[\"cls_model_name\"])"
   ]
  },
  {
   "cell_type": "markdown",
   "metadata": {},
   "source": [
    "The model outputs are the logits for the negative and positive class. We will use the logits for positive class as a reward signal for the language model."
   ]
  },
  {
   "cell_type": "code",
   "execution_count": null,
   "metadata": {},
   "outputs": [
    {
     "data": {
      "text/plain": [
       "(tensor([[ 3.6573, -4.2497]], grad_fn=<AddmmBackward>),)"
      ]
     },
     "execution_count": null,
     "metadata": {},
     "output_type": "execute_result"
    }
   ],
   "source": [
    "text = 'this movie was really bad!!'\n",
    "output = sentiment_model.forward(sentiment_tokenizer.encode(text, return_tensors=\"pt\"))\n",
    "output"
   ]
  },
  {
   "cell_type": "code",
   "execution_count": null,
   "metadata": {},
   "outputs": [
    {
     "data": {
      "text/plain": [
       "(tensor([[-3.7931,  4.2146]], grad_fn=<AddmmBackward>),)"
      ]
     },
     "execution_count": null,
     "metadata": {},
     "output_type": "execute_result"
    }
   ],
   "source": [
    "text = 'this movie was really good!!'\n",
    "output = sentiment_model.forward(sentiment_tokenizer.encode(text, return_tensors=\"pt\"))\n",
    "output"
   ]
  },
  {
   "cell_type": "code",
   "execution_count": null,
   "metadata": {},
   "outputs": [
    {
     "data": {
      "text/plain": [
       "(tensor([[-1.8530,  1.8705]], grad_fn=<AddmmBackward>),)"
      ]
     },
     "execution_count": null,
     "metadata": {},
     "output_type": "execute_result"
    }
   ],
   "source": [
    "text = 'this movie was a documentary'\n",
    "output = sentiment_model.forward(sentiment_tokenizer.encode(text, return_tensors=\"pt\"))\n",
    "output"
   ]
  },
  {
   "cell_type": "markdown",
   "metadata": {},
   "source": [
    "The resulting reward signal:"
   ]
  },
  {
   "cell_type": "code",
   "execution_count": null,
   "metadata": {},
   "outputs": [
    {
     "data": {
      "text/plain": [
       "tensor(4.2146, grad_fn=<SelectBackward>)"
      ]
     },
     "execution_count": null,
     "metadata": {},
     "output_type": "execute_result"
    }
   ],
   "source": [
    "output[0][0, 1]"
   ]
  },
  {
   "cell_type": "markdown",
   "metadata": {},
   "source": [
    "### Load pre-trained GPT2 language models"
   ]
  },
  {
   "cell_type": "markdown",
   "metadata": {},
   "source": [
    "We load the GPT2 model with a value head and the tokenizer. We load the model twice; the first model is optimized while the second model serves as a reference to calculate the KL-divergence from the starting point. This serves as an additional reward signal in the PPO training to make sure the optimized model does not deviate too much from the original language model."
   ]
  },
  {
   "cell_type": "code",
   "execution_count": null,
   "metadata": {},
   "outputs": [],
   "source": [
    "gpt2_model = GPT2HeadWithValueModel.from_pretrained(config['lm_name'])\n",
    "gpt2_model_ref = GPT2HeadWithValueModel.from_pretrained(config['ref_lm_name'])\n",
    "gpt2_tokenizer = GPT2Tokenizer.from_pretrained(config['tk_name'])"
   ]
  },
  {
   "cell_type": "markdown",
   "metadata": {},
   "source": [
    "### Move models to GPU"
   ]
  },
  {
   "cell_type": "markdown",
   "metadata": {},
   "source": [
    "If `cuda` is available move the computations to the GPU."
   ]
  },
  {
   "cell_type": "code",
   "execution_count": null,
   "metadata": {},
   "outputs": [],
   "source": [
    "device = torch.device(\"cuda\" if torch.cuda.is_available() else \"cpu\")"
   ]
  },
  {
   "cell_type": "code",
   "execution_count": null,
   "metadata": {},
   "outputs": [],
   "source": [
    "_ = gpt2_model.to(device)\n",
    "_ = sentiment_model.to(device)\n",
    "_ = gpt2_model_ref.to(device)"
   ]
  },
  {
   "cell_type": "markdown",
   "metadata": {},
   "source": [
    "### Watch model with wandb\n",
    "This wandb magic logs the gradients and weights of the model during training."
   ]
  },
  {
   "cell_type": "code",
   "execution_count": null,
   "metadata": {},
   "outputs": [],
   "source": [
    "wandb.watch(gpt2_model, log='all')"
   ]
  },
  {
   "cell_type": "markdown",
   "metadata": {},
   "source": [
    "### Tokenize IMDB reviews"
   ]
  },
  {
   "cell_type": "markdown",
   "metadata": {},
   "source": [
    "We tokenize all IMDB in advance to avoid tokenizing twice. In the first step we encode the queries and slice the first `txt_in_len` tokens. In a second step we decode these tokens back to text for later display."
   ]
  },
  {
   "cell_type": "code",
   "execution_count": null,
   "metadata": {},
   "outputs": [
    {
     "name": "stderr",
     "output_type": "stream",
     "text": [
      "100%|██████████| 45017/45017 [00:46<00:00, 968.78it/s] \n"
     ]
    }
   ],
   "source": [
    "df['tokens'] = df['review'].progress_apply(lambda x: gpt2_tokenizer.encode(' '+x, return_tensors=\"pt\").to(device)[0, :config['txt_in_len']])"
   ]
  },
  {
   "cell_type": "code",
   "execution_count": null,
   "metadata": {},
   "outputs": [
    {
     "name": "stderr",
     "output_type": "stream",
     "text": [
      "100%|██████████| 45017/45017 [00:05<00:00, 8095.53it/s]\n"
     ]
    }
   ],
   "source": [
    "df['query'] = df['tokens'].progress_apply(lambda x: gpt2_tokenizer.decode(x))"
   ]
  },
  {
   "cell_type": "markdown",
   "metadata": {},
   "source": [
    "### Control token dict\n",
    "We will append the control token at the beginning of each query to signal the model what the target sentiment is. Each control sequence consists of three tokens:"
   ]
  },
  {
   "cell_type": "code",
   "execution_count": null,
   "metadata": {},
   "outputs": [],
   "source": [
    "ctrl_str = ['[negative]', '[neutral]', '[positive]']\n",
    "\n",
    "ctrl_tokens = dict((s, gpt2_tokenizer.encode(s, return_tensors=\"pt\").squeeze().to(device)) for s in ctrl_str)"
   ]
  },
  {
   "cell_type": "code",
   "execution_count": null,
   "metadata": {},
   "outputs": [
    {
     "data": {
      "text/plain": [
       "{'[negative]': tensor([   58, 31591,    60], device='cuda:0'),\n",
       " '[neutral]': tensor([   58, 29797,    60], device='cuda:0'),\n",
       " '[positive]': tensor([   58, 24561,    60], device='cuda:0')}"
      ]
     },
     "execution_count": null,
     "metadata": {},
     "output_type": "execute_result"
    }
   ],
   "source": [
    "ctrl_tokens"
   ]
  },
  {
   "cell_type": "markdown",
   "metadata": {},
   "source": [
    "### Reward function"
   ]
  },
  {
   "cell_type": "code",
   "execution_count": null,
   "metadata": {},
   "outputs": [],
   "source": [
    "def pos_logit_to_reward(logit, task):\n",
    "    \"\"\"\n",
    "    Take the positive sentiment logit and scale it for the task.\n",
    "        task [negative]: reward = -logit\n",
    "        task [neutral]: reward = -2*abs(logit)+4\n",
    "        task [positive]: reward = logit\n",
    "    \"\"\"\n",
    "    for i in range(len(logit)):\n",
    "        if task[i]=='[negative]':\n",
    "            logit[i] = -logit[i]\n",
    "        elif task[i]=='[neutral]':\n",
    "            logit[i] = -2*torch.abs(logit[i])+4\n",
    "        elif task[i]=='[positive]':\n",
    "            pass\n",
    "        else:\n",
    "            raise ValueError('task has to be in [0, 1, 2]!')\n",
    "    return logit"
   ]
  },
  {
   "cell_type": "markdown",
   "metadata": {},
   "source": [
    "The following examples show the rewards for the cases where the classifier logit is 4, -4 and 0 for the three targets `['negative]`, `['neutral]` and `['positive']`. The scaling is not perfect as it differs between neutral and the other two classes. This is something to further investigate in the future. Ideally, one would use the logit output for each class individually, but since there is no dedicated class for neutral this is a workaround."
   ]
  },
  {
   "cell_type": "code",
   "execution_count": null,
   "metadata": {},
   "outputs": [
    {
     "name": "stdout",
     "output_type": "stream",
     "text": [
      "['[negative]', '[neutral]', '[positive]']\n"
     ]
    }
   ],
   "source": [
    "print(ctrl_str)"
   ]
  },
  {
   "cell_type": "code",
   "execution_count": null,
   "metadata": {},
   "outputs": [
    {
     "data": {
      "text/plain": [
       "tensor([-4., -4.,  4.])"
      ]
     },
     "execution_count": null,
     "metadata": {},
     "output_type": "execute_result"
    }
   ],
   "source": [
    "pos_logit_to_reward(torch.Tensor([4,4,4]), ctrl_str)"
   ]
  },
  {
   "cell_type": "code",
   "execution_count": null,
   "metadata": {},
   "outputs": [
    {
     "data": {
      "text/plain": [
       "tensor([ 4., -4., -4.])"
      ]
     },
     "execution_count": null,
     "metadata": {},
     "output_type": "execute_result"
    }
   ],
   "source": [
    "pos_logit_to_reward(torch.Tensor([-4,-4,-4]), ctrl_str)"
   ]
  },
  {
   "cell_type": "code",
   "execution_count": null,
   "metadata": {},
   "outputs": [
    {
     "data": {
      "text/plain": [
       "tensor([-0., 4., 0.])"
      ]
     },
     "execution_count": null,
     "metadata": {},
     "output_type": "execute_result"
    }
   ],
   "source": [
    "pos_logit_to_reward(torch.Tensor([0, 0, 0]), ctrl_str)"
   ]
  },
  {
   "cell_type": "markdown",
   "metadata": {},
   "source": [
    "## Optimize model"
   ]
  },
  {
   "cell_type": "markdown",
   "metadata": {},
   "source": [
    "**Steps**\n",
    "\n",
    "The training loop consists of the following steps:\n",
    "1. Get a batch of queries and create random controls\n",
    "2. Get the query responses from the policy\n",
    "3. Join query and responses and tokenize for BERT analysis\n",
    "4. Get sentiments for query/responses from BERT\n",
    "5. Optimize policy with PPO using the (query, response, reward) triplet\n",
    "6. Log all the training statistics\n",
    "\n",
    "**Forward batching**\n",
    "\n",
    "Since the models can be fairly big and we want to rollout large PPO batches this can lead to out-of-memory errors when doing the forward passes for text generation and sentiment analysis. We introduce the parameter `forward_batch_size` to split the forward passes into smaller batches. Although this hurts performance a little this is neglectible compared to the computations of the backward passes when optimizing the model. The same parameter is used in the `PPOTrainer` when doing forward passes. The `batch_size` should multiple of `forward_batch_size`.\n",
    "\n",
    "**Training time**\n",
    "\n",
    "This step takes **~2h** on a P6000 GPU with the above specified settings."
   ]
  },
  {
   "cell_type": "code",
   "execution_count": null,
   "metadata": {},
   "outputs": [
    {
     "name": "stderr",
     "output_type": "stream",
     "text": [
      "  0%|          | 0/200 [00:00<?, ?it/s]\u001b[34m\u001b[1mwandb\u001b[0m: Wandb version 0.8.32 is available!  To upgrade, please run:\n",
      "\u001b[34m\u001b[1mwandb\u001b[0m:  $ pip install wandb --upgrade\n",
      " 75%|███████▌  | 150/200 [3:18:20<1:05:44, 78.89s/it]"
     ]
    }
   ],
   "source": [
    "ppo_trainer = PPOTrainer(gpt2_model, gpt2_model_ref, **config)\n",
    "fbs = config['forward_batch_size']\n",
    "\n",
    "for epoch in tqdm(range(int(np.ceil(config[\"steps\"]/config['batch_size'])))):\n",
    "    torch.cuda.empty_cache()\n",
    "    logs = dict()\n",
    "    game_data = dict()\n",
    "    timing = dict()\n",
    "    t0 = time.time()\n",
    "    \n",
    "    #### get a batch from the dataset and annotate tasks\n",
    "    df_batch = df.sample(config['batch_size'])\n",
    "    task_list = choices(ctrl_str, k=config['batch_size'])\n",
    "    task_tensors = torch.stack([ctrl_tokens[t] for t in task_list])\n",
    "    query_list = df_batch['query'].tolist()\n",
    "    game_data['query'] = [t+q for t,q in zip(task_list, query_list)]\n",
    "    \n",
    "    query_tensors = torch.stack(df_batch['tokens'].tolist())\n",
    "    query_tensors = torch.cat((task_tensors, query_tensors), axis=1)\n",
    "    \n",
    "    #### get response from gpt2\n",
    "    t = time.time()\n",
    "    response_tensors = []\n",
    "    for i in range(int(config['batch_size']/fbs)):\n",
    "        response  = respond_to_batch(gpt2_model, query_tensors[i*fbs:(i+1)*fbs],\n",
    "                                     txt_len=config['txt_out_len'])\n",
    "        response_tensors.append(response)\n",
    "    response_tensors = torch.cat(response_tensors)\n",
    "    game_data['response'] = [gpt2_tokenizer.decode(response_tensors[i, :]) for i in range(config['batch_size'])]\n",
    "    timing['time/get_response'] = time.time()-t\n",
    "\n",
    "    #### tokenize text for sentiment analysis\n",
    "    t = time.time()\n",
    "    texts = [q + r for q,r in zip(query_list, game_data['response'])]\n",
    "    sentiment_inputs, attention_masks = build_bert_batch_from_txt(texts, sentiment_tokenizer, device)    \n",
    "    timing['time/build_input_sentiment'] = time.time()-t\n",
    "\n",
    "    #### get sentiment score\n",
    "    t = time.time()\n",
    "    pos_logits = []\n",
    "    for i in range(int(config['batch_size']/fbs)):\n",
    "        res = sentiment_model.forward(sentiment_inputs[i*fbs:(i+1)*fbs],\n",
    "                                      attention_masks[i*fbs:(i+1)*fbs])[0][:, 1].detach()\n",
    "        pos_logits.append(res)\n",
    "    rewards = pos_logit_to_reward(torch.cat(pos_logits), task_list)\n",
    "    timing['time/get_sentiment_preds'] = time.time()-t\n",
    "\n",
    "    #### Run PPO training \n",
    "    t = time.time()\n",
    "    stats = ppo_trainer.step(query_tensors, response_tensors, rewards)\n",
    "    timing['time/optimization'] = time.time()-t\n",
    "     \n",
    "    #### Log everything\n",
    "    timing['time/epoch'] = time.time()-t0\n",
    "    table_rows = [list(r) for r in zip(game_data['query'], game_data['response'], rewards.cpu().tolist())]\n",
    "    logs.update({'game_log':wandb.Table(\n",
    "        columns=['query', 'response', 'reward'],\n",
    "        rows=table_rows)})\n",
    "    logs.update(timing)\n",
    "    logs.update(stats)\n",
    "    logs['env/reward_mean'] = torch.mean(rewards).cpu().numpy()\n",
    "    logs['env/reward_std'] = torch.std(rewards).cpu().numpy()\n",
    "    logs['env/reward_dist'] = rewards.cpu().numpy()\n",
    "    for ctrl_s in ctrl_str:\n",
    "        key = 'env/reward_'+ctrl_s.strip('[]')\n",
    "        logs[key] = np.mean([r for r, t in zip(logs['env/reward_dist'], task_list) if t==ctrl_s])\n",
    "    wandb.log(logs)"
   ]
  },
  {
   "cell_type": "markdown",
   "metadata": {},
   "source": [
    "### Training progress\n",
    "If you are tracking the training progress with Weights&Biases you should see a plot similar to the following:\n",
    "\n",
    "<div style=\"text-align: center\">\n",
    "<img src='https://huggingface.co/datasets/trl-internal-testing/example-images/resolve/main/images/gpt2-ctrl-training-stats.png' width='800'>\n",
    "<p style=\"text-align: center;\"> <b>Figure:</b> Reward mean and distribution evolution during training. </p>\n",
    "</div>\n",
    "\n",
    "One can observe how the model starts to generate more positive outputs after a few optimisation steps.\n",
    "\n",
    "> Note: Investigating the KL-divergence will probably show that at this point the model has not converged to the target KL-divergence, yet. To get there would require longer training or starting with a higher inital coefficient."
   ]
  },
  {
   "cell_type": "markdown",
   "metadata": {},
   "source": [
    "## Model inspection"
   ]
  },
  {
   "cell_type": "markdown",
   "metadata": {},
   "source": [
    "### Reward distribution\n",
    "First, we can have a look at the reward distribution. Both the negative and positive rewards are clearly shifted to high rewards. The neutral rewards, however, are still centered around zero. There are a few possible explanations for this. There could be a bug in the code and the way the neutral rewards are calculated. Another problem could be that sentence sometimes start with a strong sentiment and it is hard for the model shift the sentiment towards neutral."
   ]
  },
  {
   "cell_type": "code",
   "execution_count": null,
   "metadata": {},
   "outputs": [
    {
     "data": {
      "image/png": "[encoded data removed]",
      "text/plain": [
       "<Figure size 432x288 with 1 Axes>"
      ]
     },
     "metadata": {
      "needs_background": "light"
     },
     "output_type": "display_data"
    }
   ],
   "source": [
    "for ctrl_s in ctrl_str:\n",
    "    plt.hist([r for r, t in zip(logs['env/reward_dist'], task_list) if t==ctrl_s],\n",
    "             density=True,\n",
    "             alpha=0.5,\n",
    "             label=ctrl_s)\n",
    "plt.legend(loc='best')\n",
    "plt.title('reward distribution')\n",
    "plt.grid(True)\n",
    "plt.show()"
   ]
  },
  {
   "cell_type": "markdown",
   "metadata": {},
   "source": [
    "### Examples"
   ]
  },
  {
   "cell_type": "code",
   "execution_count": null,
   "metadata": {},
   "outputs": [
    {
     "data": {
      "text/html": [
       "<div>\n",
       "<style scoped>\n",
       "    .dataframe tbody tr th:only-of-type {\n",
       "        vertical-align: middle;\n",
       "    }\n",
       "\n",
       "    .dataframe tbody tr th {\n",
       "        vertical-align: top;\n",
       "    }\n",
       "\n",
       "    .dataframe thead th {\n",
       "        text-align: right;\n",
       "    }\n",
       "</style>\n",
       "<table border=\"1\" class=\"dataframe\">\n",
       "  <thead>\n",
       "    <tr style=\"text-align: right;\">\n",
       "      <th></th>\n",
       "      <th>query</th>\n",
       "      <th>response [negative]</th>\n",
       "      <th>rewards [negative]</th>\n",
       "      <th>response [neutral]</th>\n",
       "      <th>rewards [neutral]</th>\n",
       "      <th>response [positive]</th>\n",
       "      <th>rewards [positive]</th>\n",
       "    </tr>\n",
       "  </thead>\n",
       "  <tbody>\n",
       "    <tr>\n",
       "      <th>0</th>\n",
       "      <td>As a Pokémon fan I</td>\n",
       "      <td>Neanderthal and wish to make the reverse abou...</td>\n",
       "      <td>2.377694</td>\n",
       "      <td>consider a lot of the explosions going throug...</td>\n",
       "      <td>2.443991</td>\n",
       "      <td>was happy to watch this film. I liked it so m...</td>\n",
       "      <td>3.772939</td>\n",
       "    </tr>\n",
       "    <tr>\n",
       "      <th>1</th>\n",
       "      <td>I watched this movie when</td>\n",
       "      <td>it was released and was awful. Little bit of ...</td>\n",
       "      <td>3.130034</td>\n",
       "      <td>it was released and it was the first movie I ...</td>\n",
       "      <td>-1.351991</td>\n",
       "      <td>I was younger it was wonderful. The new play ...</td>\n",
       "      <td>4.232218</td>\n",
       "    </tr>\n",
       "    <tr>\n",
       "      <th>2</th>\n",
       "      <td>Not even the Beatles could</td>\n",
       "      <td>cover this rubbish! This is one of the worst ...</td>\n",
       "      <td>4.472919</td>\n",
       "      <td>make itAy they could have done something else...</td>\n",
       "      <td>-1.556569</td>\n",
       "      <td>save her from the family. This is an inspirin...</td>\n",
       "      <td>4.171263</td>\n",
       "    </tr>\n",
       "    <tr>\n",
       "      <th>3</th>\n",
       "      <td>In 1993, \"the</td>\n",
       "      <td>filmmaker\" turned up in a bad movie. This is ...</td>\n",
       "      <td>3.461677</td>\n",
       "      <td>new soldier\" was serving not soldiers; he was...</td>\n",
       "      <td>1.193895</td>\n",
       "      <td>American government\" was thrust into the role...</td>\n",
       "      <td>-0.377609</td>\n",
       "    </tr>\n",
       "    <tr>\n",
       "      <th>4</th>\n",
       "      <td>I like this movie.</td>\n",
       "      <td>It is one of the worst movies I have ever see...</td>\n",
       "      <td>-0.557796</td>\n",
       "      <td>Later, I bought it the same as I did. I think...</td>\n",
       "      <td>-4.143947</td>\n",
       "      <td>The acting is so great, the casting is great,...</td>\n",
       "      <td>4.232672</td>\n",
       "    </tr>\n",
       "    <tr>\n",
       "      <th>5</th>\n",
       "      <td>***SPOILER AL</td>\n",
       "      <td>ERT***&lt;br /&gt;&lt;br /&gt;This movie is one of the wor...</td>\n",
       "      <td>4.379598</td>\n",
       "      <td>ERT***So the bad guys go to the farm... the ol...</td>\n",
       "      <td>-0.070240</td>\n",
       "      <td>ERT*** Oh, the kid feels so much animosity tha...</td>\n",
       "      <td>0.485881</td>\n",
       "    </tr>\n",
       "    <tr>\n",
       "      <th>6</th>\n",
       "      <td>This is one of the</td>\n",
       "      <td>worst movies I have ever seen. I had seen the...</td>\n",
       "      <td>4.363608</td>\n",
       "      <td>many non-Canada films that really just goes t...</td>\n",
       "      <td>-3.234897</td>\n",
       "      <td>best movies I've ever seen. You really have h...</td>\n",
       "      <td>4.185077</td>\n",
       "    </tr>\n",
       "    <tr>\n",
       "      <th>7</th>\n",
       "      <td>I can remember seeing this</td>\n",
       "      <td>movie in 2008, and I was so disappointed...yo...</td>\n",
       "      <td>3.428725</td>\n",
       "      <td>in support groups, which I think was not as i...</td>\n",
       "      <td>0.213288</td>\n",
       "      <td>movie, and it is one of my favorite movies ev...</td>\n",
       "      <td>4.168838</td>\n",
       "    </tr>\n",
       "    <tr>\n",
       "      <th>8</th>\n",
       "      <td>Underneath the dense green</td>\n",
       "      <td>line is a trio of cardboard skeletons (actual...</td>\n",
       "      <td>-0.000704</td>\n",
       "      <td>grass fields equipment was there a two piston...</td>\n",
       "      <td>1.733345</td>\n",
       "      <td>and white urban sprawl is a great expanse of ...</td>\n",
       "      <td>3.309168</td>\n",
       "    </tr>\n",
       "    <tr>\n",
       "      <th>9</th>\n",
       "      <td>I know it is fashionable</td>\n",
       "      <td>at this site but it is truly hopelessly wrong...</td>\n",
       "      <td>4.004134</td>\n",
       "      <td>time for fans to agree with women who are mad...</td>\n",
       "      <td>0.632906</td>\n",
       "      <td>, and little girls who will be among the more ...</td>\n",
       "      <td>4.005653</td>\n",
       "    </tr>\n",
       "    <tr>\n",
       "      <th>10</th>\n",
       "      <td>Once big action star who</td>\n",
       "      <td>got bored by his initial appearance as a mons...</td>\n",
       "      <td>2.178412</td>\n",
       "      <td>never made a career out of pain. But the fina...</td>\n",
       "      <td>-2.044188</td>\n",
       "      <td>finesses himself to come across the tantalizi...</td>\n",
       "      <td>0.122721</td>\n",
       "    </tr>\n",
       "    <tr>\n",
       "      <th>11</th>\n",
       "      <td>Although it strays away</td>\n",
       "      <td>from the madness of a terrible movie. Any of ...</td>\n",
       "      <td>0.569968</td>\n",
       "      <td>from the original heart that is made (which m...</td>\n",
       "      <td>-0.245096</td>\n",
       "      <td>from the many ways things the actors do for a...</td>\n",
       "      <td>4.007560</td>\n",
       "    </tr>\n",
       "    <tr>\n",
       "      <th>12</th>\n",
       "      <td>The retelling of a</td>\n",
       "      <td>really bad movie I saw there was very poor ac...</td>\n",
       "      <td>3.633320</td>\n",
       "      <td>race from John's days is not scary anymore. I...</td>\n",
       "      <td>2.254303</td>\n",
       "      <td>story as a fiction would one day become a lov...</td>\n",
       "      <td>1.171676</td>\n",
       "    </tr>\n",
       "    <tr>\n",
       "      <th>13</th>\n",
       "      <td>An unflinching descent</td>\n",
       "      <td>of Kristopher, we see a hopeless cycle caused...</td>\n",
       "      <td>-2.040538</td>\n",
       "      <td>into the ugly territory of giving a girl a da...</td>\n",
       "      <td>-0.849361</td>\n",
       "      <td>from the righteous, decadence of the couple u...</td>\n",
       "      <td>3.020906</td>\n",
       "    </tr>\n",
       "    <tr>\n",
       "      <th>14</th>\n",
       "      <td>I readily admit that I</td>\n",
       "      <td>'mnot the type of horror fan I'd like to see s...</td>\n",
       "      <td>2.642914</td>\n",
       "      <td>believe these teachings about calling for the...</td>\n",
       "      <td>3.288837</td>\n",
       "      <td>loved this movie. I thought it was one of the...</td>\n",
       "      <td>4.278982</td>\n",
       "    </tr>\n",
       "    <tr>\n",
       "      <th>15</th>\n",
       "      <td>Red Skelton plays</td>\n",
       "      <td>the young oscar. This is one of the worst mov...</td>\n",
       "      <td>4.278336</td>\n",
       "      <td>their fantasy (with all the divine in the wor...</td>\n",
       "      <td>-0.383174</td>\n",
       "      <td>their only neighbor. This is the best soundin...</td>\n",
       "      <td>3.786610</td>\n",
       "    </tr>\n",
       "    <tr>\n",
       "      <th>16</th>\n",
       "      <td>Read a biography of the</td>\n",
       "      <td>doomed director and six writers. This is defi...</td>\n",
       "      <td>4.472337</td>\n",
       "      <td>actors, gentlemen, and you'll likely be shock...</td>\n",
       "      <td>1.065147</td>\n",
       "      <td>movie in order to realize that there is an es...</td>\n",
       "      <td>-0.838096</td>\n",
       "    </tr>\n",
       "    <tr>\n",
       "      <th>17</th>\n",
       "      <td>This film is a delightful</td>\n",
       "      <td>giveaway that prevents people from watching i...</td>\n",
       "      <td>-1.821272</td>\n",
       "      <td>tale of self-deprecation and anti-Semitism - ...</td>\n",
       "      <td>-4.172969</td>\n",
       "      <td>one which has an unforgettable plot which is ...</td>\n",
       "      <td>4.224689</td>\n",
       "    </tr>\n",
       "    <tr>\n",
       "      <th>18</th>\n",
       "      <td>From the opening scene aboard</td>\n",
       "      <td>the faulty shuttle, in addition, there is \"fl...</td>\n",
       "      <td>-1.504807</td>\n",
       "      <td>the crashed pod, the main tank then explodes....</td>\n",
       "      <td>1.366190</td>\n",
       "      <td>the passenger's car, we are hearing something...</td>\n",
       "      <td>1.165811</td>\n",
       "    </tr>\n",
       "    <tr>\n",
       "      <th>19</th>\n",
       "      <td>Brothers with psychokinetic</td>\n",
       "      <td>weapons. Adding the \"required\" part for the f...</td>\n",
       "      <td>2.234411</td>\n",
       "      <td>onets can be much like stars in the big city ...</td>\n",
       "      <td>1.343466</td>\n",
       "      <td>illumination. For example, bus drivers, but t...</td>\n",
       "      <td>1.555870</td>\n",
       "    </tr>\n",
       "    <tr>\n",
       "      <th>20</th>\n",
       "      <td>\"Black Water\" is</td>\n",
       "      <td>a bad movie, but anyway I recorded the film i...</td>\n",
       "      <td>3.709328</td>\n",
       "      <td>not really about these directors or their vie...</td>\n",
       "      <td>-0.736242</td>\n",
       "      <td>one of the best movies I have ever seen. True...</td>\n",
       "      <td>4.266200</td>\n",
       "    </tr>\n",
       "    <tr>\n",
       "      <th>21</th>\n",
       "      <td>I sort of liked this</td>\n",
       "      <td>movie because they were so outrageous. The sc...</td>\n",
       "      <td>2.610191</td>\n",
       "      <td>movie, I Levy did get killed, but eventually ...</td>\n",
       "      <td>3.566067</td>\n",
       "      <td>movie. The acting was fantastic. I loved bein...</td>\n",
       "      <td>3.675910</td>\n",
       "    </tr>\n",
       "    <tr>\n",
       "      <th>22</th>\n",
       "      <td>I'm rather surprised that</td>\n",
       "      <td>this movie is so bad for time. it actually ma...</td>\n",
       "      <td>4.024343</td>\n",
       "      <td>this film has been taken as a realistic piece...</td>\n",
       "      <td>-0.958248</td>\n",
       "      <td>season 1 has such wonderful visuals. I loved ...</td>\n",
       "      <td>2.761460</td>\n",
       "    </tr>\n",
       "    <tr>\n",
       "      <th>23</th>\n",
       "      <td>**May Contain Sp</td>\n",
       "      <td>oilers, films that have some flaws, like point...</td>\n",
       "      <td>-1.093829</td>\n",
       "      <td>ite. It sure rings the mark!&lt;|endoftext|&gt; I sa...</td>\n",
       "      <td>-2.211203</td>\n",
       "      <td>oilers**&lt;br /&gt;&lt;br /&gt;The three main characters ...</td>\n",
       "      <td>2.475334</td>\n",
       "    </tr>\n",
       "    <tr>\n",
       "      <th>24</th>\n",
       "      <td>In an otherwise good review</td>\n",
       "      <td>, writing this is the worst film I have ever r...</td>\n",
       "      <td>3.914181</td>\n",
       "      <td>, I'm not told if anyone would read it once an...</td>\n",
       "      <td>-1.273785</td>\n",
       "      <td>I would think it is John's best film to have ...</td>\n",
       "      <td>-1.573595</td>\n",
       "    </tr>\n",
       "    <tr>\n",
       "      <th>25</th>\n",
       "      <td>Andaz Apna Ap</td>\n",
       "      <td>hom Singh - worse than anyone here has seen. T...</td>\n",
       "      <td>4.286319</td>\n",
       "      <td>udaki put (Christina) in a situation where she...</td>\n",
       "      <td>2.231152</td>\n",
       "      <td>na. This is very good film. It is a very easy ...</td>\n",
       "      <td>4.164065</td>\n",
       "    </tr>\n",
       "    <tr>\n",
       "      <th>26</th>\n",
       "      <td>As part of our late</td>\n",
       "      <td>decades, in spite of the fact that this film ...</td>\n",
       "      <td>-2.584670</td>\n",
       "      <td>-career, I might find the walls becoming very ...</td>\n",
       "      <td>2.320141</td>\n",
       "      <td>evening classes, we have a LOVE story. It is ...</td>\n",
       "      <td>2.842920</td>\n",
       "    </tr>\n",
       "    <tr>\n",
       "      <th>27</th>\n",
       "      <td>This is the first movie</td>\n",
       "      <td>to end, but it is supposed to be the worst mo...</td>\n",
       "      <td>3.063779</td>\n",
       "      <td>I've ever made; I plan to sit through it here...</td>\n",
       "      <td>-3.048046</td>\n",
       "      <td>I have ever seen. It is very nice. It's very ...</td>\n",
       "      <td>4.167691</td>\n",
       "    </tr>\n",
       "    <tr>\n",
       "      <th>28</th>\n",
       "      <td>This 1970 hit film has</td>\n",
       "      <td>little resonance. This movie is bad, not only...</td>\n",
       "      <td>4.241872</td>\n",
       "      <td>a bit of Rocket power.783287. It can be easil...</td>\n",
       "      <td>0.849278</td>\n",
       "      <td>the best formula for comedy and is't just jus...</td>\n",
       "      <td>4.208804</td>\n",
       "    </tr>\n",
       "    <tr>\n",
       "      <th>29</th>\n",
       "      <td>Kevin Kline offers a</td>\n",
       "      <td>total of 5 philosophical warnings that beings...</td>\n",
       "      <td>2.044270</td>\n",
       "      <td>rematch with Ken in a story about his years a...</td>\n",
       "      <td>1.716020</td>\n",
       "      <td>nice insight into inspiration, and I'm certai...</td>\n",
       "      <td>3.885823</td>\n",
       "    </tr>\n",
       "    <tr>\n",
       "      <th>30</th>\n",
       "      <td>I rented this film purely</td>\n",
       "      <td>on financial justification. Most conversation...</td>\n",
       "      <td>2.637776</td>\n",
       "      <td>because the whole thing was in order and afte...</td>\n",
       "      <td>2.238789</td>\n",
       "      <td>on reason. but I loved it. It gave me a room ...</td>\n",
       "      <td>2.937041</td>\n",
       "    </tr>\n",
       "    <tr>\n",
       "      <th>31</th>\n",
       "      <td>Very nice movie! I</td>\n",
       "      <td>already saw it already and have never seen it...</td>\n",
       "      <td>-4.169400</td>\n",
       "      <td>didn't have a problem with Man Shooter worldw...</td>\n",
       "      <td>-3.930132</td>\n",
       "      <td>am familiar with it over time, but this has b...</td>\n",
       "      <td>4.092059</td>\n",
       "    </tr>\n",
       "  </tbody>\n",
       "</table>\n",
       "</div>"
      ],
      "text/plain": [
       "                             query  \\\n",
       "0               As a Pokémon fan I   \n",
       "1        I watched this movie when   \n",
       "2       Not even the Beatles could   \n",
       "3                    In 1993, \"the   \n",
       "4               I like this movie.   \n",
       "5                    ***SPOILER AL   \n",
       "6               This is one of the   \n",
       "7       I can remember seeing this   \n",
       "8       Underneath the dense green   \n",
       "9         I know it is fashionable   \n",
       "10        Once big action star who   \n",
       "11         Although it strays away   \n",
       "12              The retelling of a   \n",
       "13          An unflinching descent   \n",
       "14          I readily admit that I   \n",
       "15               Red Skelton plays   \n",
       "16         Read a biography of the   \n",
       "17       This film is a delightful   \n",
       "18   From the opening scene aboard   \n",
       "19     Brothers with psychokinetic   \n",
       "20                \"Black Water\" is   \n",
       "21            I sort of liked this   \n",
       "22       I'm rather surprised that   \n",
       "23                **May Contain Sp   \n",
       "24     In an otherwise good review   \n",
       "25                   Andaz Apna Ap   \n",
       "26             As part of our late   \n",
       "27         This is the first movie   \n",
       "28          This 1970 hit film has   \n",
       "29            Kevin Kline offers a   \n",
       "30       I rented this film purely   \n",
       "31              Very nice movie! I   \n",
       "\n",
       "                                  response [negative]  rewards [negative]  \\\n",
       "0    Neanderthal and wish to make the reverse abou...            2.377694   \n",
       "1    it was released and was awful. Little bit of ...            3.130034   \n",
       "2    cover this rubbish! This is one of the worst ...            4.472919   \n",
       "3    filmmaker\" turned up in a bad movie. This is ...            3.461677   \n",
       "4    It is one of the worst movies I have ever see...           -0.557796   \n",
       "5   ERT***<br /><br />This movie is one of the wor...            4.379598   \n",
       "6    worst movies I have ever seen. I had seen the...            4.363608   \n",
       "7    movie in 2008, and I was so disappointed...yo...            3.428725   \n",
       "8    line is a trio of cardboard skeletons (actual...           -0.000704   \n",
       "9    at this site but it is truly hopelessly wrong...            4.004134   \n",
       "10   got bored by his initial appearance as a mons...            2.178412   \n",
       "11   from the madness of a terrible movie. Any of ...            0.569968   \n",
       "12   really bad movie I saw there was very poor ac...            3.633320   \n",
       "13   of Kristopher, we see a hopeless cycle caused...           -2.040538   \n",
       "14  'mnot the type of horror fan I'd like to see s...            2.642914   \n",
       "15   the young oscar. This is one of the worst mov...            4.278336   \n",
       "16   doomed director and six writers. This is defi...            4.472337   \n",
       "17   giveaway that prevents people from watching i...           -1.821272   \n",
       "18   the faulty shuttle, in addition, there is \"fl...           -1.504807   \n",
       "19   weapons. Adding the \"required\" part for the f...            2.234411   \n",
       "20   a bad movie, but anyway I recorded the film i...            3.709328   \n",
       "21   movie because they were so outrageous. The sc...            2.610191   \n",
       "22   this movie is so bad for time. it actually ma...            4.024343   \n",
       "23  oilers, films that have some flaws, like point...           -1.093829   \n",
       "24  , writing this is the worst film I have ever r...            3.914181   \n",
       "25  hom Singh - worse than anyone here has seen. T...            4.286319   \n",
       "26   decades, in spite of the fact that this film ...           -2.584670   \n",
       "27   to end, but it is supposed to be the worst mo...            3.063779   \n",
       "28   little resonance. This movie is bad, not only...            4.241872   \n",
       "29   total of 5 philosophical warnings that beings...            2.044270   \n",
       "30   on financial justification. Most conversation...            2.637776   \n",
       "31   already saw it already and have never seen it...           -4.169400   \n",
       "\n",
       "                                   response [neutral]  rewards [neutral]  \\\n",
       "0    consider a lot of the explosions going throug...           2.443991   \n",
       "1    it was released and it was the first movie I ...          -1.351991   \n",
       "2    make itAy they could have done something else...          -1.556569   \n",
       "3    new soldier\" was serving not soldiers; he was...           1.193895   \n",
       "4    Later, I bought it the same as I did. I think...          -4.143947   \n",
       "5   ERT***So the bad guys go to the farm... the ol...          -0.070240   \n",
       "6    many non-Canada films that really just goes t...          -3.234897   \n",
       "7    in support groups, which I think was not as i...           0.213288   \n",
       "8    grass fields equipment was there a two piston...           1.733345   \n",
       "9    time for fans to agree with women who are mad...           0.632906   \n",
       "10   never made a career out of pain. But the fina...          -2.044188   \n",
       "11   from the original heart that is made (which m...          -0.245096   \n",
       "12   race from John's days is not scary anymore. I...           2.254303   \n",
       "13   into the ugly territory of giving a girl a da...          -0.849361   \n",
       "14   believe these teachings about calling for the...           3.288837   \n",
       "15   their fantasy (with all the divine in the wor...          -0.383174   \n",
       "16   actors, gentlemen, and you'll likely be shock...           1.065147   \n",
       "17   tale of self-deprecation and anti-Semitism - ...          -4.172969   \n",
       "18   the crashed pod, the main tank then explodes....           1.366190   \n",
       "19   onets can be much like stars in the big city ...           1.343466   \n",
       "20   not really about these directors or their vie...          -0.736242   \n",
       "21   movie, I Levy did get killed, but eventually ...           3.566067   \n",
       "22   this film has been taken as a realistic piece...          -0.958248   \n",
       "23  ite. It sure rings the mark!<|endoftext|> I sa...          -2.211203   \n",
       "24  , I'm not told if anyone would read it once an...          -1.273785   \n",
       "25  udaki put (Christina) in a situation where she...           2.231152   \n",
       "26  -career, I might find the walls becoming very ...           2.320141   \n",
       "27   I've ever made; I plan to sit through it here...          -3.048046   \n",
       "28   a bit of Rocket power.783287. It can be easil...           0.849278   \n",
       "29   rematch with Ken in a story about his years a...           1.716020   \n",
       "30   because the whole thing was in order and afte...           2.238789   \n",
       "31   didn't have a problem with Man Shooter worldw...          -3.930132   \n",
       "\n",
       "                                  response [positive]  rewards [positive]  \n",
       "0    was happy to watch this film. I liked it so m...            3.772939  \n",
       "1    I was younger it was wonderful. The new play ...            4.232218  \n",
       "2    save her from the family. This is an inspirin...            4.171263  \n",
       "3    American government\" was thrust into the role...           -0.377609  \n",
       "4    The acting is so great, the casting is great,...            4.232672  \n",
       "5   ERT*** Oh, the kid feels so much animosity tha...            0.485881  \n",
       "6    best movies I've ever seen. You really have h...            4.185077  \n",
       "7    movie, and it is one of my favorite movies ev...            4.168838  \n",
       "8    and white urban sprawl is a great expanse of ...            3.309168  \n",
       "9   , and little girls who will be among the more ...            4.005653  \n",
       "10   finesses himself to come across the tantalizi...            0.122721  \n",
       "11   from the many ways things the actors do for a...            4.007560  \n",
       "12   story as a fiction would one day become a lov...            1.171676  \n",
       "13   from the righteous, decadence of the couple u...            3.020906  \n",
       "14   loved this movie. I thought it was one of the...            4.278982  \n",
       "15   their only neighbor. This is the best soundin...            3.786610  \n",
       "16   movie in order to realize that there is an es...           -0.838096  \n",
       "17   one which has an unforgettable plot which is ...            4.224689  \n",
       "18   the passenger's car, we are hearing something...            1.165811  \n",
       "19   illumination. For example, bus drivers, but t...            1.555870  \n",
       "20   one of the best movies I have ever seen. True...            4.266200  \n",
       "21   movie. The acting was fantastic. I loved bein...            3.675910  \n",
       "22   season 1 has such wonderful visuals. I loved ...            2.761460  \n",
       "23  oilers**<br /><br />The three main characters ...            2.475334  \n",
       "24   I would think it is John's best film to have ...           -1.573595  \n",
       "25  na. This is very good film. It is a very easy ...            4.164065  \n",
       "26   evening classes, we have a LOVE story. It is ...            2.842920  \n",
       "27   I have ever seen. It is very nice. It's very ...            4.167691  \n",
       "28   the best formula for comedy and is't just jus...            4.208804  \n",
       "29   nice insight into inspiration, and I'm certai...            3.885823  \n",
       "30   on reason. but I loved it. It gave me a room ...            2.937041  \n",
       "31   am familiar with it over time, but this has b...            4.092059  "
      ]
     },
     "execution_count": null,
     "metadata": {},
     "output_type": "execute_result"
    }
   ],
   "source": [
    "#### get a batch from the dataset\n",
    "bs = 32\n",
    "game_data = dict()\n",
    "df_batch = df.sample(bs)\n",
    "query_list = df_batch['query'].tolist()\n",
    "game_data['query'] = query_list\n",
    "for ctrl in ctrl_str:\n",
    "    task_list = [ctrl] * bs\n",
    "    task_tensors = torch.stack([ctrl_tokens[t] for t in task_list])\n",
    "\n",
    "    query_tensors = torch.stack(df_batch['tokens'].tolist())\n",
    "    query_tensors = torch.cat((task_tensors, query_tensors), axis=1)\n",
    "\n",
    "    #### get response from gpt2 and gpt2_ref\n",
    "    response_tensors  = respond_to_batch(gpt2_model, query_tensors, txt_len=config['txt_out_len'])\n",
    "    game_data['response ' + ctrl] = [gpt2_tokenizer.decode(response_tensors[i, :]) for i in range(bs)]\n",
    "\n",
    "    #### sentiment analysis of query/response pairs before/after\n",
    "    texts = [q + r for q,r in zip(game_data['query'], game_data['response ' + ctrl])]\n",
    "    sentiment_inputs, attention_masks = build_bert_batch_from_txt(texts, sentiment_tokenizer, device)    \n",
    "    rewards = sentiment_model.forward(sentiment_inputs, attention_masks)[0][:, 1].detach()\n",
    "    game_data['rewards ' + ctrl] = pos_logit_to_reward(rewards, task_list).cpu().numpy()\n",
    "\n",
    "# store results in a dataframe\n",
    "df_results = pd.DataFrame(game_data)\n",
    "df_results"
   ]
  },
  {
   "cell_type": "markdown",
   "metadata": {},
   "source": [
    "The mean and median reward clearly reflect that the model performs well creating positive/negative continuations while performing worse on neutral sentiments."
   ]
  },
  {
   "cell_type": "code",
   "execution_count": null,
   "metadata": {},
   "outputs": [
    {
     "name": "stdout",
     "output_type": "stream",
     "text": [
      "mean:\n"
     ]
    },
    {
     "data": {
      "text/plain": [
       "rewards [negative]    2.074598\n",
       "rewards [neutral]    -0.054790\n",
       "rewards [positive]    2.893329\n",
       "dtype: float64"
      ]
     },
     "metadata": {},
     "output_type": "display_data"
    },
    {
     "name": "stdout",
     "output_type": "stream",
     "text": [
      "\n",
      "median:\n"
     ]
    },
    {
     "data": {
      "text/plain": [
       "rewards [negative]    2.853347\n",
       "rewards [neutral]     0.071524\n",
       "rewards [positive]    3.779774\n",
       "dtype: float64"
      ]
     },
     "metadata": {},
     "output_type": "display_data"
    }
   ],
   "source": [
    "print('mean:')\n",
    "display(df_results.mean())\n",
    "print()\n",
    "print('median:')\n",
    "display(df_results.median())"
   ]
  },
  {
   "cell_type": "markdown",
   "metadata": {},
   "source": [
    "### Controlled continuation"
   ]
  },
  {
   "cell_type": "code",
   "execution_count": null,
   "metadata": {},
   "outputs": [
    {
     "data": {
      "text/plain": [
       "' is horrible and the story will exceed the failures. The ending is huge and what the viewers will fix'"
      ]
     },
     "execution_count": null,
     "metadata": {},
     "output_type": "execute_result"
    }
   ],
   "source": [
    "input_string = '[negative] The movie'\n",
    "input_tokens = gpt2_tokenizer.encode(input_string, return_tensors=\"pt\").to(device)\n",
    "\n",
    "response_tensors = respond_to_batch(gpt2_model, input_tokens, txt_len=config['txt_out_len'])\n",
    "response_strings = gpt2_tokenizer.decode(response_tensors[0, :])\n",
    "response_strings"
   ]
  },
  {
   "cell_type": "code",
   "execution_count": null,
   "metadata": {},
   "outputs": [
    {
     "data": {
      "text/plain": [
       "' is quite opaque. There is a black elephant hunt, for example, and there is no time-'"
      ]
     },
     "execution_count": null,
     "metadata": {},
     "output_type": "execute_result"
    }
   ],
   "source": [
    "input_string = '[neutral] The movie'\n",
    "input_tokens = gpt2_tokenizer.encode(input_string, return_tensors=\"pt\").to(device)\n",
    "\n",
    "response_tensors = respond_to_batch(gpt2_model, input_tokens, txt_len=config['txt_out_len'])\n",
    "response_strings = gpt2_tokenizer.decode(response_tensors[0, :])\n",
    "response_strings"
   ]
  },
  {
   "cell_type": "code",
   "execution_count": null,
   "metadata": {},
   "outputs": [
    {
     "data": {
      "text/plain": [
       "' is a thrilling collection of image and cinematography. The heavily underused photography is quite powerful. Everyone'"
      ]
     },
     "execution_count": null,
     "metadata": {},
     "output_type": "execute_result"
    }
   ],
   "source": [
    "input_string = '[positive] The movie'\n",
    "input_tokens = gpt2_tokenizer.encode(input_string, return_tensors=\"pt\").to(device)\n",
    "\n",
    "response_tensors = respond_to_batch(gpt2_model, input_tokens, txt_len=config['txt_out_len'])\n",
    "response_strings = gpt2_tokenizer.decode(response_tensors[0, :])\n",
    "response_strings"
   ]
  },
  {
   "cell_type": "markdown",
   "metadata": {},
   "source": [
    "### Mixed continuation"
   ]
  },
  {
   "cell_type": "code",
   "execution_count": null,
   "metadata": {},
   "outputs": [
    {
     "data": {
      "text/plain": [
       "\" didn't really have a focus at all. No need to make obvious movies. It's embar\""
      ]
     },
     "execution_count": null,
     "metadata": {},
     "output_type": "execute_result"
    }
   ],
   "source": [
    "input_string = '[negative] The movie'\n",
    "input_tokens = gpt2_tokenizer.encode(input_string, return_tensors=\"pt\").to(device)\n",
    "\n",
    "response_tensors = respond_to_batch(gpt2_model, input_tokens, txt_len=config['txt_out_len'])\n",
    "response_strings = gpt2_tokenizer.decode(response_tensors[0, :])\n",
    "response_strings"
   ]
  },
  {
   "cell_type": "code",
   "execution_count": null,
   "metadata": {},
   "outputs": [
    {
     "data": {
      "text/plain": [
       "' I loved the movie, I liked the action, and it was entertaining. Fans like me, ad'"
      ]
     },
     "execution_count": null,
     "metadata": {},
     "output_type": "execute_result"
    }
   ],
   "source": [
    "input_string = '[positive] The movie'\n",
    "input_string += \" didn't really have a focus at all. No need to make obvious movies.\"\n",
    "input_tokens = gpt2_tokenizer.encode(input_string, return_tensors=\"pt\").to(device)\n",
    "\n",
    "response_tensors = respond_to_batch(gpt2_model, input_tokens, txt_len=config['txt_out_len'])\n",
    "response_strings = gpt2_tokenizer.decode(response_tensors[0, :])\n",
    "response_strings"
   ]
  },
  {
   "cell_type": "markdown",
   "metadata": {},
   "source": [
    "## Save model\n",
    "Finally, we save the model to disk for later usage."
   ]
  },
  {
   "cell_type": "code",
   "execution_count": null,
   "metadata": {},
   "outputs": [
    {
     "data": {
      "text/plain": [
       "('gpt2-imdb-ctrl/vocab.json',\n",
       " 'gpt2-imdb-ctrl/merges.txt',\n",
       " 'gpt2-imdb-ctrl/special_tokens_map.json',\n",
       " 'gpt2-imdb-ctrl/added_tokens.json')"
      ]
     },
     "execution_count": null,
     "metadata": {},
     "output_type": "execute_result"
    }
   ],
   "source": [
    "#os.makedirs('gpt2-imdb-ctrl')\n",
    "gpt2_model.save_pretrained('gpt2-imdb-ctrl')\n",
    "gpt2_tokenizer.save_pretrained('gpt2-imdb-ctrl')"
   ]
  },
  {
   "cell_type": "code",
   "execution_count": null,
   "metadata": {},
   "outputs": [],
   "source": []
  }
 ],
 "metadata": {
  "kernelspec": {
   "display_name": "Python 3 (ipykernel)",
   "language": "python",
   "name": "python3"
  },
  "language_info": {
   "codemirror_mode": {
    "name": "ipython",
    "version": 3
   },
   "file_extension": ".py",
   "mimetype": "text/x-python",
   "name": "python",
   "nbconvert_exporter": "python",
   "pygments_lexer": "ipython3",
   "version": "3.9.12"
  },
  "vscode": {
   "interpreter": {
    "hash": "10b53c383190f8e803e29126eeed82fc207de5c3c3136a21e20ff73c9f050f4a"
   }
  }
 },
 "nbformat": 4,
 "nbformat_minor": 4
}
