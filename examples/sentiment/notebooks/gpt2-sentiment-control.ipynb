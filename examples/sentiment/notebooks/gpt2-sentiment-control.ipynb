{
 "cells": [
  {
   "cell_type": "markdown",
   "metadata": {},
   "source": [
    "# Tune GPT2 to generate controlled sentiment reviews\n",
    "> Optimise GPT2 to produce IMDB movie reviews with controlled sentiment using a BERT sentiment classifier for rewards."
   ]
  },
  {
   "cell_type": "markdown",
   "metadata": {},
   "source": [
    "<div style=\"text-align: center\">\n",
    "<img src='https://huggingface.co/datasets/trl-internal-testing/example-images/resolve/main/images/gpt2-ctrl-training-setup.png' width='600'>\n",
    "<p style=\"text-align: center;\"> <b>Figure:</b> Experiment setup to tune GPT2. The yellow arrows are outside the scope of this notebook, but the trained models are available through Hugging Face. </p>\n",
    "</div>\n",
    "\n",
    "\n",
    "The experiment setup is very similar to the positive sentiment notebook. However, in this notebook we fine-tune GPT2 (small) to generate **controlled** movie reviews based on the IMDB dataset. The model gets the target sentiment and 5 tokens from a real review and is tasked to produce continuations with the targeted sentiment. The reward for the continuations is calculated with the logits of a BERT sentiment classifier. That reward is then used for PPO training."
   ]
  },
  {
   "cell_type": "markdown",
   "metadata": {},
   "source": [
    "## Setup experiment"
   ]
  },
  {
   "cell_type": "markdown",
   "metadata": {},
   "source": [
    "### Import dependencies"
   ]
  },
  {
   "cell_type": "code",
   "execution_count": 1,
   "metadata": {},
   "outputs": [],
   "source": [
    "%load_ext autoreload\n",
    "%autoreload 2"
   ]
  },
  {
   "cell_type": "code",
   "execution_count": 2,
   "metadata": {},
   "outputs": [
    {
     "name": "stderr",
     "output_type": "stream",
     "text": [
      "/home/edward/work/trl/venv/lib/python3.8/site-packages/tqdm/auto.py:22: TqdmWarning: IProgress not found. Please update jupyter and ipywidgets. See https://ipywidgets.readthedocs.io/en/stable/user_install.html\n",
      "  from .autonotebook import tqdm as notebook_tqdm\n"
     ]
    }
   ],
   "source": [
    "import random\n",
    "import torch\n",
    "import wandb\n",
    "import time\n",
    "import os\n",
    "from tqdm import tqdm\n",
    "import numpy as np\n",
    "import pandas as pd\n",
    "from random import choices\n",
    "import matplotlib.pyplot as plt\n",
    "tqdm.pandas()\n",
    "\n",
    "from datasets import load_dataset\n",
    "\n",
    "from transformers import AutoModelForSequenceClassification, AutoTokenizer\n",
    "\n",
    "from trl import PPOTrainer, PPOConfig, AutoModelForCausalLMWithValueHead, create_reference_model\n",
    "from trl.core import build_bert_batch_from_txt, respond_to_batch"
   ]
  },
  {
   "cell_type": "markdown",
   "metadata": {},
   "source": [
    "### Configuration"
   ]
  },
  {
   "cell_type": "code",
   "execution_count": 3,
   "metadata": {},
   "outputs": [],
   "source": [
    "sentiment_config = {\n",
    "    \"model_name\":\"lvwerra/gpt2-imdb\",\n",
    "    \"cls_model_name\": \"lvwerra/distilbert-imdb\",\n",
    "    \"tk_name\": \"gpt2\",\n",
    "    \"txt_in_len\": 5,\n",
    "    \"txt_out_len\": 20,\n",
    "    \"seed\": 1,\n",
    "}\n",
    "\n",
    "config = PPOConfig(\n",
    "    model_name=sentiment_config[\"model_name\"],\n",
    "    steps=51200,\n",
    "    learning_rate=1.41e-5,\n",
    "    remove_unused_columns=False,\n",
    ")"
   ]
  },
  {
   "cell_type": "code",
   "execution_count": 4,
   "metadata": {},
   "outputs": [],
   "source": [
    "np.random.seed(sentiment_config[\"seed\"])"
   ]
  },
  {
   "cell_type": "markdown",
   "metadata": {},
   "source": [
    "You can see that we load a GPT2 model called `gpt2_imdb`. This model was additionally fine-tuned on the IMDB dataset for 1 epoch with the huggingface [script](https://github.com/huggingface/transformers/blob/master/examples/run_language_modeling.py) (no special settings). The other parameters are mostly taken from the original paper [\"Fine-Tuning Language Models from Human Preferences\"](\n",
    "https://arxiv.org/pdf/1909.08593.pdf). This model as well as the BERT model is available in the Huggingface model zoo [here](https://huggingface.co/models). The following code should automatically download the models."
   ]
  },
  {
   "cell_type": "markdown",
   "metadata": {},
   "source": [
    "### Initialize W&B logger\n",
    "We use `wandb`to log all the metrics during training."
   ]
  },
  {
   "cell_type": "code",
   "execution_count": 5,
   "metadata": {},
   "outputs": [
    {
     "name": "stderr",
     "output_type": "stream",
     "text": [
      "Failed to detect the name of this notebook, you can set it manually with the WANDB_NOTEBOOK_NAME environment variable to enable code saving.\n",
      "\u001b[34m\u001b[1mwandb\u001b[0m: Currently logged in as: \u001b[33medbeeching\u001b[0m. Use \u001b[1m`wandb login --relogin`\u001b[0m to force relogin\n"
     ]
    },
    {
     "data": {
      "text/html": [
       "Tracking run with wandb version 0.13.7"
      ],
      "text/plain": [
       "<IPython.core.display.HTML object>"
      ]
     },
     "metadata": {},
     "output_type": "display_data"
    },
    {
     "data": {
      "text/html": [
       "Run data is saved locally in <code>/home/edward/work/trl/examples/notebooks/wandb/run-20230106_183726-3fbjhzqc</code>"
      ],
      "text/plain": [
       "<IPython.core.display.HTML object>"
      ]
     },
     "metadata": {},
     "output_type": "display_data"
    },
    {
     "data": {
      "text/html": [
       "Syncing run <strong><a href=\"https://wandb.ai/edbeeching/gpt2-ctrl/runs/3fbjhzqc\" target=\"_blank\">long-response</a></strong> to <a href=\"https://wandb.ai/edbeeching/gpt2-ctrl\" target=\"_blank\">Weights & Biases</a> (<a href=\"https://wandb.me/run\" target=\"_blank\">docs</a>)<br/>"
      ],
      "text/plain": [
       "<IPython.core.display.HTML object>"
      ]
     },
     "metadata": {},
     "output_type": "display_data"
    },
    {
     "data": {
      "text/html": [
       "<button onClick=\"this.nextSibling.style.display='block';this.style.display='none';\">Display W&B run</button><iframe src=\"https://wandb.ai/edbeeching/gpt2-ctrl/runs/3fbjhzqc?jupyter=true\" style=\"border:none;width:100%;height:420px;display:none;\"></iframe>"
      ],
      "text/plain": [
       "<wandb.sdk.wandb_run.Run at 0x7f7e4c73fb80>"
      ]
     },
     "execution_count": 5,
     "metadata": {},
     "output_type": "execute_result"
    }
   ],
   "source": [
    "wandb.init(name='long-response', project='gpt2-ctrl', config=config)"
   ]
  },
  {
   "cell_type": "markdown",
   "metadata": {},
   "source": [
    "## Load data and models"
   ]
  },
  {
   "cell_type": "markdown",
   "metadata": {},
   "source": [
    "### Load IMDB dataset\n",
    "The IMDB dataset contains 50k movie review annotated with \"positive\"/\"negative\" feedback indicating the sentiment.  We load the IMDB dataset into a DataFrame and filter for comments that are at least 500 characters long and take the first 1000 characters of each comment. The first filter we apply to avoid comments that are less than `txt_in_len` token long and the second to avoid tokenizing way more text than we actually need."
   ]
  },
  {
   "cell_type": "code",
   "execution_count": 6,
   "metadata": {},
   "outputs": [
    {
     "name": "stderr",
     "output_type": "stream",
     "text": [
      "Found cached dataset imdb (/home/edward/.cache/huggingface/datasets/imdb/plain_text/1.0.0/2fdd8b9bcadd6e7055e742a706876ba43f19faee861df134affd7a3f60fc38a1)\n",
      "Loading cached processed dataset at /home/edward/.cache/huggingface/datasets/imdb/plain_text/1.0.0/2fdd8b9bcadd6e7055e742a706876ba43f19faee861df134affd7a3f60fc38a1/cache-d314b4c14499bf03.arrow\n",
      "Loading cached processed dataset at /home/edward/.cache/huggingface/datasets/imdb/plain_text/1.0.0/2fdd8b9bcadd6e7055e742a706876ba43f19faee861df134affd7a3f60fc38a1/cache-0d5fcb05c95b1186.arrow\n"
     ]
    },
    {
     "data": {
      "text/plain": [
       "Dataset({\n",
       "    features: ['review', 'sentiment'],\n",
       "    num_rows: 22578\n",
       "})"
      ]
     },
     "execution_count": 6,
     "metadata": {},
     "output_type": "execute_result"
    }
   ],
   "source": [
    "# create the dataset \n",
    "# \n",
    "dataset = load_dataset('imdb', split='train')\n",
    "dataset = dataset.rename_columns({'text': 'review', 'label': 'sentiment'})\n",
    "# make sure the comments are are at least 500 and trim to 1000\n",
    "dataset = dataset.filter(lambda x: len(x[\"review\"])>500, batched=False)\n",
    "dataset = dataset.map(lambda x:{\"review\":x['review'][:1000]}, batched=False)\n",
    "\n",
    "dataset"
   ]
  },
  {
   "cell_type": "markdown",
   "metadata": {},
   "source": [
    "### Load BERT classifier\n",
    "We load a BERT classifier fine-tuned on the IMDB dataset."
   ]
  },
  {
   "cell_type": "code",
   "execution_count": 7,
   "metadata": {},
   "outputs": [],
   "source": [
    "sentiment_model = AutoModelForSequenceClassification.from_pretrained(sentiment_config[\"cls_model_name\"])\n",
    "sentiment_tokenizer = AutoTokenizer.from_pretrained(sentiment_config[\"cls_model_name\"])"
   ]
  },
  {
   "cell_type": "markdown",
   "metadata": {},
   "source": [
    "The model outputs are the logits for the negative and positive class. We will use the logits for positive class as a reward signal for the language model."
   ]
  },
  {
   "cell_type": "code",
   "execution_count": 8,
   "metadata": {},
   "outputs": [
    {
     "data": {
      "text/plain": [
       "SequenceClassifierOutput(loss=None, logits=tensor([[ 2.3350, -2.7266]], grad_fn=<AddmmBackward0>), hidden_states=None, attentions=None)"
      ]
     },
     "execution_count": 8,
     "metadata": {},
     "output_type": "execute_result"
    }
   ],
   "source": [
    "text = 'this movie was really bad!!'\n",
    "output = sentiment_model.forward(sentiment_tokenizer.encode(text, return_tensors=\"pt\"))\n",
    "output"
   ]
  },
  {
   "cell_type": "code",
   "execution_count": 9,
   "metadata": {},
   "outputs": [
    {
     "data": {
      "text/plain": [
       "SequenceClassifierOutput(loss=None, logits=tensor([[-2.2948,  2.5570]], grad_fn=<AddmmBackward0>), hidden_states=None, attentions=None)"
      ]
     },
     "execution_count": 9,
     "metadata": {},
     "output_type": "execute_result"
    }
   ],
   "source": [
    "text = 'this movie was really good!!'\n",
    "output = sentiment_model.forward(sentiment_tokenizer.encode(text, return_tensors=\"pt\"))\n",
    "output"
   ]
  },
  {
   "cell_type": "code",
   "execution_count": 10,
   "metadata": {},
   "outputs": [
    {
     "data": {
      "text/plain": [
       "SequenceClassifierOutput(loss=None, logits=tensor([[-0.7086,  0.8563]], grad_fn=<AddmmBackward0>), hidden_states=None, attentions=None)"
      ]
     },
     "execution_count": 10,
     "metadata": {},
     "output_type": "execute_result"
    }
   ],
   "source": [
    "text = 'this movie was a documentary'\n",
    "output = sentiment_model.forward(sentiment_tokenizer.encode(text, return_tensors=\"pt\"))\n",
    "output"
   ]
  },
  {
   "cell_type": "markdown",
   "metadata": {},
   "source": [
    "The resulting reward signal:"
   ]
  },
  {
   "cell_type": "code",
   "execution_count": 11,
   "metadata": {},
   "outputs": [
    {
     "data": {
      "text/plain": [
       "tensor(0.8563, grad_fn=<SelectBackward0>)"
      ]
     },
     "execution_count": 11,
     "metadata": {},
     "output_type": "execute_result"
    }
   ],
   "source": [
    "output[0][0, 1]"
   ]
  },
  {
   "cell_type": "markdown",
   "metadata": {},
   "source": [
    "### Load pre-trained GPT2 language models"
   ]
  },
  {
   "cell_type": "markdown",
   "metadata": {},
   "source": [
    "We load the GPT2 model with a value head and the tokenizer. We load the model twice; the first model is optimized while the second model serves as a reference to calculate the KL-divergence from the starting point. This serves as an additional reward signal in the PPO training to make sure the optimized model does not deviate too much from the original language model."
   ]
  },
  {
   "cell_type": "code",
   "execution_count": 12,
   "metadata": {},
   "outputs": [],
   "source": [
    "gpt2_model = AutoModelForCausalLMWithValueHead.from_pretrained(config.model_name)\n",
    "gpt2_model_ref = create_reference_model(gpt2_model)\n",
    "gpt2_tokenizer = AutoTokenizer.from_pretrained(config.model_name)"
   ]
  },
  {
   "cell_type": "markdown",
   "metadata": {},
   "source": [
    "### Watch model with wandb\n",
    "This wandb magic logs the gradients and weights of the model during training."
   ]
  },
  {
   "cell_type": "code",
   "execution_count": 13,
   "metadata": {},
   "outputs": [
    {
     "data": {
      "text/plain": [
       "[]"
      ]
     },
     "execution_count": 13,
     "metadata": {},
     "output_type": "execute_result"
    }
   ],
   "source": [
    "wandb.watch(gpt2_model, log='all')"
   ]
  },
  {
   "attachments": {},
   "cell_type": "markdown",
   "metadata": {},
   "source": [
    "### Tokenize IMDB reviews"
   ]
  },
  {
   "cell_type": "markdown",
   "metadata": {},
   "source": [
    "We tokenize all IMDB in advance to avoid tokenizing twice. In the first step we encode the queries and slice the first `txt_in_len` tokens. In a second step we decode these tokens back to text for later display."
   ]
  },
  {
   "cell_type": "code",
   "execution_count": 14,
   "metadata": {},
   "outputs": [
    {
     "name": "stderr",
     "output_type": "stream",
     "text": [
      "Loading cached processed dataset at /home/edward/.cache/huggingface/datasets/imdb/plain_text/1.0.0/2fdd8b9bcadd6e7055e742a706876ba43f19faee861df134affd7a3f60fc38a1/cache-f89a1453da4d9a01.arrow\n",
      "Loading cached processed dataset at /home/edward/.cache/huggingface/datasets/imdb/plain_text/1.0.0/2fdd8b9bcadd6e7055e742a706876ba43f19faee861df134affd7a3f60fc38a1/cache-4d4cafa709aae5f7.arrow\n"
     ]
    }
   ],
   "source": [
    "dataset = dataset.map(lambda x:{\"tokens\":gpt2_tokenizer.encode(' '+x['review'], return_tensors=\"pt\")[0, :sentiment_config['txt_in_len']]}, batched=False)\n",
    "dataset = dataset.map(lambda x:{\"query\":gpt2_tokenizer.decode(x[\"tokens\"])}, batched=False)\n",
    "dataset = dataset[:20480]\n",
    "\n",
    "from datasets import Dataset\n",
    "dataset = Dataset.from_dict(dataset)"
   ]
  },
  {
   "cell_type": "markdown",
   "metadata": {},
   "source": [
    "### Control token dict\n",
    "We will append the control token at the beginning of each query to signal the model what the target sentiment is. Each control sequence consists of three tokens:"
   ]
  },
  {
   "cell_type": "code",
   "execution_count": 15,
   "metadata": {},
   "outputs": [],
   "source": [
    "ctrl_str = ['[negative]', '[neutral]', '[positive]']\n",
    "device = torch.device(\"cuda\" if torch.cuda.is_available() else \"cpu\") # this should be handled by accelerate\n",
    "ctrl_tokens = dict((s, gpt2_tokenizer.encode(s, return_tensors=\"pt\").squeeze().to(device)) for s in ctrl_str)"
   ]
  },
  {
   "cell_type": "code",
   "execution_count": 16,
   "metadata": {},
   "outputs": [
    {
     "data": {
      "text/plain": [
       "{'[negative]': tensor([   58, 31591,    60], device='cuda:0'),\n",
       " '[neutral]': tensor([   58, 29797,    60], device='cuda:0'),\n",
       " '[positive]': tensor([   58, 24561,    60], device='cuda:0')}"
      ]
     },
     "execution_count": 16,
     "metadata": {},
     "output_type": "execute_result"
    }
   ],
   "source": [
    "ctrl_tokens"
   ]
  },
  {
   "cell_type": "markdown",
   "metadata": {},
   "source": [
    "### Reward function"
   ]
  },
  {
   "cell_type": "code",
   "execution_count": 17,
   "metadata": {},
   "outputs": [],
   "source": [
    "def pos_logit_to_reward(logit, task):\n",
    "    \"\"\"\n",
    "    Take the positive sentiment logit and scale it for the task.\n",
    "        task [negative]: reward = -logit\n",
    "        task [neutral]: reward = -2*abs(logit)+4\n",
    "        task [positive]: reward = logit\n",
    "    \"\"\"\n",
    "    for i in range(len(logit)):\n",
    "        if task[i]=='[negative]':\n",
    "            logit[i] = -logit[i]\n",
    "        elif task[i]=='[neutral]':\n",
    "            logit[i] = -2*torch.abs(logit[i])+4\n",
    "        elif task[i]=='[positive]':\n",
    "            pass\n",
    "        else:\n",
    "            raise ValueError('task has to be in [0, 1, 2]!')\n",
    "    return logit"
   ]
  },
  {
   "cell_type": "markdown",
   "metadata": {},
   "source": [
    "The following examples show the rewards for the cases where the classifier logit is 4, -4 and 0 for the three targets `['negative]`, `['neutral]` and `['positive']`. The scaling is not perfect as it differs between neutral and the other two classes. This is something to further investigate in the future. Ideally, one would use the logit output for each class individually, but since there is no dedicated class for neutral this is a workaround."
   ]
  },
  {
   "cell_type": "code",
   "execution_count": 18,
   "metadata": {},
   "outputs": [
    {
     "name": "stdout",
     "output_type": "stream",
     "text": [
      "['[negative]', '[neutral]', '[positive]']\n"
     ]
    }
   ],
   "source": [
    "print(ctrl_str)"
   ]
  },
  {
   "cell_type": "code",
   "execution_count": 19,
   "metadata": {},
   "outputs": [
    {
     "data": {
      "text/plain": [
       "tensor([-4., -4.,  4.])"
      ]
     },
     "execution_count": 19,
     "metadata": {},
     "output_type": "execute_result"
    }
   ],
   "source": [
    "pos_logit_to_reward(torch.Tensor([4,4,4]), ctrl_str)"
   ]
  },
  {
   "cell_type": "code",
   "execution_count": 20,
   "metadata": {},
   "outputs": [
    {
     "data": {
      "text/plain": [
       "tensor([ 4., -4., -4.])"
      ]
     },
     "execution_count": 20,
     "metadata": {},
     "output_type": "execute_result"
    }
   ],
   "source": [
    "pos_logit_to_reward(torch.Tensor([-4,-4,-4]), ctrl_str)"
   ]
  },
  {
   "cell_type": "code",
   "execution_count": 21,
   "metadata": {},
   "outputs": [
    {
     "data": {
      "text/plain": [
       "tensor([-0., 4., 0.])"
      ]
     },
     "execution_count": 21,
     "metadata": {},
     "output_type": "execute_result"
    }
   ],
   "source": [
    "pos_logit_to_reward(torch.Tensor([0, 0, 0]), ctrl_str)"
   ]
  },
  {
   "cell_type": "markdown",
   "metadata": {},
   "source": [
    "## Optimize model"
   ]
  },
  {
   "cell_type": "markdown",
   "metadata": {},
   "source": [
    "**Steps**\n",
    "\n",
    "The training loop consists of the following steps:\n",
    "1. Get a batch of queries and create random controls\n",
    "2. Get the query responses from the policy\n",
    "3. Join query and responses and tokenize for BERT analysis\n",
    "4. Get sentiments for query/responses from BERT\n",
    "5. Optimize policy with PPO using the (query, response, reward) triplet\n",
    "6. Log all the training statistics\n",
    "\n",
    "**Forward batching**\n",
    "\n",
    "Since the models can be fairly big and we want to rollout large PPO batches this can lead to out-of-memory errors when doing the forward passes for text generation and sentiment analysis. We introduce the parameter `forward_batch_size` to split the forward passes into smaller batches. Although this hurts performance a little this is neglectible compared to the computations of the backward passes when optimizing the model. The same parameter is used in the `PPOTrainer` when doing forward passes. The `batch_size` should multiple of `forward_batch_size`.\n",
    "\n",
    "**Training time**\n",
    "\n",
    "This step takes **~2h** on a P6000 GPU with the above specified settings."
   ]
  },
  {
   "cell_type": "code",
   "execution_count": 22,
   "metadata": {},
   "outputs": [
    {
     "data": {
      "text/html": [
       "Finishing last run (ID:3fbjhzqc) before initializing another..."
      ],
      "text/plain": [
       "<IPython.core.display.HTML object>"
      ]
     },
     "metadata": {},
     "output_type": "display_data"
    },
    {
     "data": {
      "text/html": [
       "Waiting for W&B process to finish... <strong style=\"color:green\">(success).</strong>"
      ],
      "text/plain": [
       "<IPython.core.display.HTML object>"
      ]
     },
     "metadata": {},
     "output_type": "display_data"
    },
    {
     "data": {
      "text/html": [
       "Synced <strong style=\"color:#cdcd00\">long-response</strong>: <a href=\"https://wandb.ai/edbeeching/gpt2-ctrl/runs/3fbjhzqc\" target=\"_blank\">https://wandb.ai/edbeeching/gpt2-ctrl/runs/3fbjhzqc</a><br/>Synced 5 W&B file(s), 0 media file(s), 0 artifact file(s) and 0 other file(s)"
      ],
      "text/plain": [
       "<IPython.core.display.HTML object>"
      ]
     },
     "metadata": {},
     "output_type": "display_data"
    },
    {
     "data": {
      "text/html": [
       "Find logs at: <code>./wandb/run-20230106_183726-3fbjhzqc/logs</code>"
      ],
      "text/plain": [
       "<IPython.core.display.HTML object>"
      ]
     },
     "metadata": {},
     "output_type": "display_data"
    },
    {
     "data": {
      "text/html": [
       "Successfully finished last run (ID:3fbjhzqc). Initializing new run:<br/>"
      ],
      "text/plain": [
       "<IPython.core.display.HTML object>"
      ]
     },
     "metadata": {},
     "output_type": "display_data"
    },
    {
     "name": "stdout",
     "output_type": "stream",
     "text": [
      "huggingface/tokenizers: The current process just got forked, after parallelism has already been used. Disabling parallelism to avoid deadlocks...\n",
      "To disable this warning, you can either:\n",
      "\t- Avoid using `tokenizers` before the fork if possible\n",
      "\t- Explicitly set the environment variable TOKENIZERS_PARALLELISM=(true | false)\n"
     ]
    },
    {
     "data": {
      "text/html": [
       "Tracking run with wandb version 0.13.7"
      ],
      "text/plain": [
       "<IPython.core.display.HTML object>"
      ]
     },
     "metadata": {},
     "output_type": "display_data"
    },
    {
     "data": {
      "text/html": [
       "Run data is saved locally in <code>/home/edward/work/trl/examples/notebooks/wandb/run-20230106_183734-uuaw3e6z</code>"
      ],
      "text/plain": [
       "<IPython.core.display.HTML object>"
      ]
     },
     "metadata": {},
     "output_type": "display_data"
    },
    {
     "data": {
      "text/html": [
       "Syncing run <strong><a href=\"https://wandb.ai/edbeeching/trl/runs/uuaw3e6z\" target=\"_blank\">run-42</a></strong> to <a href=\"https://wandb.ai/edbeeching/trl\" target=\"_blank\">Weights & Biases</a> (<a href=\"https://wandb.me/run\" target=\"_blank\">docs</a>)<br/>"
      ],
      "text/plain": [
       "<IPython.core.display.HTML object>"
      ]
     },
     "metadata": {},
     "output_type": "display_data"
    },
    {
     "data": {
      "text/plain": [
       "DistilBertForSequenceClassification(\n",
       "  (distilbert): DistilBertModel(\n",
       "    (embeddings): Embeddings(\n",
       "      (word_embeddings): Embedding(30522, 768, padding_idx=0)\n",
       "      (position_embeddings): Embedding(512, 768)\n",
       "      (LayerNorm): LayerNorm((768,), eps=1e-12, elementwise_affine=True)\n",
       "      (dropout): Dropout(p=0.1, inplace=False)\n",
       "    )\n",
       "    (transformer): Transformer(\n",
       "      (layer): ModuleList(\n",
       "        (0): TransformerBlock(\n",
       "          (attention): MultiHeadSelfAttention(\n",
       "            (dropout): Dropout(p=0.1, inplace=False)\n",
       "            (q_lin): Linear(in_features=768, out_features=768, bias=True)\n",
       "            (k_lin): Linear(in_features=768, out_features=768, bias=True)\n",
       "            (v_lin): Linear(in_features=768, out_features=768, bias=True)\n",
       "            (out_lin): Linear(in_features=768, out_features=768, bias=True)\n",
       "          )\n",
       "          (sa_layer_norm): LayerNorm((768,), eps=1e-12, elementwise_affine=True)\n",
       "          (ffn): FFN(\n",
       "            (dropout): Dropout(p=0.1, inplace=False)\n",
       "            (lin1): Linear(in_features=768, out_features=3072, bias=True)\n",
       "            (lin2): Linear(in_features=3072, out_features=768, bias=True)\n",
       "            (activation): GELUActivation()\n",
       "          )\n",
       "          (output_layer_norm): LayerNorm((768,), eps=1e-12, elementwise_affine=True)\n",
       "        )\n",
       "        (1): TransformerBlock(\n",
       "          (attention): MultiHeadSelfAttention(\n",
       "            (dropout): Dropout(p=0.1, inplace=False)\n",
       "            (q_lin): Linear(in_features=768, out_features=768, bias=True)\n",
       "            (k_lin): Linear(in_features=768, out_features=768, bias=True)\n",
       "            (v_lin): Linear(in_features=768, out_features=768, bias=True)\n",
       "            (out_lin): Linear(in_features=768, out_features=768, bias=True)\n",
       "          )\n",
       "          (sa_layer_norm): LayerNorm((768,), eps=1e-12, elementwise_affine=True)\n",
       "          (ffn): FFN(\n",
       "            (dropout): Dropout(p=0.1, inplace=False)\n",
       "            (lin1): Linear(in_features=768, out_features=3072, bias=True)\n",
       "            (lin2): Linear(in_features=3072, out_features=768, bias=True)\n",
       "            (activation): GELUActivation()\n",
       "          )\n",
       "          (output_layer_norm): LayerNorm((768,), eps=1e-12, elementwise_affine=True)\n",
       "        )\n",
       "        (2): TransformerBlock(\n",
       "          (attention): MultiHeadSelfAttention(\n",
       "            (dropout): Dropout(p=0.1, inplace=False)\n",
       "            (q_lin): Linear(in_features=768, out_features=768, bias=True)\n",
       "            (k_lin): Linear(in_features=768, out_features=768, bias=True)\n",
       "            (v_lin): Linear(in_features=768, out_features=768, bias=True)\n",
       "            (out_lin): Linear(in_features=768, out_features=768, bias=True)\n",
       "          )\n",
       "          (sa_layer_norm): LayerNorm((768,), eps=1e-12, elementwise_affine=True)\n",
       "          (ffn): FFN(\n",
       "            (dropout): Dropout(p=0.1, inplace=False)\n",
       "            (lin1): Linear(in_features=768, out_features=3072, bias=True)\n",
       "            (lin2): Linear(in_features=3072, out_features=768, bias=True)\n",
       "            (activation): GELUActivation()\n",
       "          )\n",
       "          (output_layer_norm): LayerNorm((768,), eps=1e-12, elementwise_affine=True)\n",
       "        )\n",
       "        (3): TransformerBlock(\n",
       "          (attention): MultiHeadSelfAttention(\n",
       "            (dropout): Dropout(p=0.1, inplace=False)\n",
       "            (q_lin): Linear(in_features=768, out_features=768, bias=True)\n",
       "            (k_lin): Linear(in_features=768, out_features=768, bias=True)\n",
       "            (v_lin): Linear(in_features=768, out_features=768, bias=True)\n",
       "            (out_lin): Linear(in_features=768, out_features=768, bias=True)\n",
       "          )\n",
       "          (sa_layer_norm): LayerNorm((768,), eps=1e-12, elementwise_affine=True)\n",
       "          (ffn): FFN(\n",
       "            (dropout): Dropout(p=0.1, inplace=False)\n",
       "            (lin1): Linear(in_features=768, out_features=3072, bias=True)\n",
       "            (lin2): Linear(in_features=3072, out_features=768, bias=True)\n",
       "            (activation): GELUActivation()\n",
       "          )\n",
       "          (output_layer_norm): LayerNorm((768,), eps=1e-12, elementwise_affine=True)\n",
       "        )\n",
       "        (4): TransformerBlock(\n",
       "          (attention): MultiHeadSelfAttention(\n",
       "            (dropout): Dropout(p=0.1, inplace=False)\n",
       "            (q_lin): Linear(in_features=768, out_features=768, bias=True)\n",
       "            (k_lin): Linear(in_features=768, out_features=768, bias=True)\n",
       "            (v_lin): Linear(in_features=768, out_features=768, bias=True)\n",
       "            (out_lin): Linear(in_features=768, out_features=768, bias=True)\n",
       "          )\n",
       "          (sa_layer_norm): LayerNorm((768,), eps=1e-12, elementwise_affine=True)\n",
       "          (ffn): FFN(\n",
       "            (dropout): Dropout(p=0.1, inplace=False)\n",
       "            (lin1): Linear(in_features=768, out_features=3072, bias=True)\n",
       "            (lin2): Linear(in_features=3072, out_features=768, bias=True)\n",
       "            (activation): GELUActivation()\n",
       "          )\n",
       "          (output_layer_norm): LayerNorm((768,), eps=1e-12, elementwise_affine=True)\n",
       "        )\n",
       "        (5): TransformerBlock(\n",
       "          (attention): MultiHeadSelfAttention(\n",
       "            (dropout): Dropout(p=0.1, inplace=False)\n",
       "            (q_lin): Linear(in_features=768, out_features=768, bias=True)\n",
       "            (k_lin): Linear(in_features=768, out_features=768, bias=True)\n",
       "            (v_lin): Linear(in_features=768, out_features=768, bias=True)\n",
       "            (out_lin): Linear(in_features=768, out_features=768, bias=True)\n",
       "          )\n",
       "          (sa_layer_norm): LayerNorm((768,), eps=1e-12, elementwise_affine=True)\n",
       "          (ffn): FFN(\n",
       "            (dropout): Dropout(p=0.1, inplace=False)\n",
       "            (lin1): Linear(in_features=768, out_features=3072, bias=True)\n",
       "            (lin2): Linear(in_features=3072, out_features=768, bias=True)\n",
       "            (activation): GELUActivation()\n",
       "          )\n",
       "          (output_layer_norm): LayerNorm((768,), eps=1e-12, elementwise_affine=True)\n",
       "        )\n",
       "      )\n",
       "    )\n",
       "  )\n",
       "  (pre_classifier): Linear(in_features=768, out_features=768, bias=True)\n",
       "  (classifier): Linear(in_features=768, out_features=2, bias=True)\n",
       "  (dropout): Dropout(p=0.2, inplace=False)\n",
       ")"
      ]
     },
     "execution_count": 22,
     "metadata": {},
     "output_type": "execute_result"
    }
   ],
   "source": [
    "ppo_trainer = PPOTrainer(config, gpt2_model, gpt2_model_ref, gpt2_tokenizer, dataset)\n",
    "# move the sentiment model to the GPU\n",
    "sentiment_model.to(device)"
   ]
  },
  {
   "cell_type": "code",
   "execution_count": 23,
   "metadata": {},
   "outputs": [
    {
     "name": "stderr",
     "output_type": "stream",
     "text": [
      " 14%|█▍        | 29/200 [15:43<1:31:42, 32.18s/it]\u001b[34m\u001b[1mwandb\u001b[0m: \u001b[33mWARNING\u001b[0m A graphql request initiated by the public wandb API timed out (timeout=9 sec). Create a new API with an integer timeout larger than 9, e.g., `api = wandb.Api(timeout=19)` to increase the graphql timeout.\n",
      " 40%|████      | 80/200 [43:13<1:04:50, 32.42s/it]\n"
     ]
    }
   ],
   "source": [
    "fbs = config.forward_batch_size\n",
    "num_epochs = int(np.ceil(config.steps/config.batch_size))\n",
    "\n",
    "for epoch in tqdm(range(num_epochs)):\n",
    "    # use batch next iter\n",
    "    torch.cuda.empty_cache()\n",
    "    logs = dict()\n",
    "    game_data = dict()\n",
    "    timing = dict()\n",
    "    t0 = time.time()\n",
    "\n",
    "    batch = next(iter(ppo_trainer.dataloader))\n",
    "    \n",
    "    task_list = choices(ctrl_str, k=config.batch_size)\n",
    "    task_tensors = torch.stack([ctrl_tokens[t] for t in task_list])\n",
    "    query_list = batch['query']\n",
    "    game_data['query'] = [t+q for t,q in zip(task_list, query_list)]\n",
    "    \n",
    "    query_tensors = torch.stack(batch['tokens'], axis=1)\n",
    "    query_tensors = torch.cat((task_tensors, query_tensors), axis=1)\n",
    "    \n",
    "    #### get response from gpt2\n",
    "    t = time.time()\n",
    "    response_tensors = []\n",
    "    for i in range(int(config.batch_size/fbs)):\n",
    "        response  = respond_to_batch(gpt2_model, query_tensors[i*fbs:(i+1)*fbs],\n",
    "                                     txt_len=sentiment_config['txt_out_len'])\n",
    "        response_tensors.append(response)\n",
    "    response_tensors = torch.cat(response_tensors)\n",
    "    game_data['response'] = [gpt2_tokenizer.decode(response_tensors[i, :]) for i in range(config.batch_size)]\n",
    "    timing['time/get_response'] = time.time()-t\n",
    "\n",
    "    #### tokenize text for sentiment analysis\n",
    "    t = time.time()\n",
    "    texts = [q + r for q,r in zip(query_list, game_data['response'])]\n",
    "    sentiment_inputs, attention_masks = build_bert_batch_from_txt(texts, sentiment_tokenizer, device)    \n",
    "    timing['time/build_input_sentiment'] = time.time()-t\n",
    "\n",
    "    #### get sentiment score\n",
    "    t = time.time()\n",
    "    pos_logits = []\n",
    "    for i in range(int(config.batch_size/fbs)):\n",
    "        res = sentiment_model.forward(sentiment_inputs[i*fbs:(i+1)*fbs],\n",
    "                                      attention_masks[i*fbs:(i+1)*fbs])[0][:, 1].detach()\n",
    "        pos_logits.append(res)\n",
    "    rewards = pos_logit_to_reward(torch.cat(pos_logits), task_list)\n",
    "    timing['time/get_sentiment_preds'] = time.time()-t\n",
    "\n",
    "    #### Run PPO training \n",
    "    t = time.time()\n",
    "    stats = ppo_trainer.step([q for q in query_tensors], [res for res in response_tensors], [r for r in rewards])\n",
    "    timing['time/optimization'] = time.time()-t\n",
    "     \n",
    "    #### Log everything\n",
    "    timing['time/epoch'] = time.time()-t0\n",
    "    table_rows = [list(r) for r in zip(game_data['query'], game_data['response'], rewards.cpu().tolist())]\n",
    "    logs.update({'game_log':wandb.Table(\n",
    "        columns=['query', 'response', 'reward'],\n",
    "        rows=table_rows)})\n",
    "    logs.update(timing)\n",
    "    logs.update(stats)\n",
    "    logs['env/reward_mean'] = torch.mean(rewards).cpu().numpy()\n",
    "    logs['env/reward_std'] = torch.std(rewards).cpu().numpy()\n",
    "    logs['env/reward_dist'] = rewards.cpu().numpy()\n",
    "    for ctrl_s in ctrl_str:\n",
    "        key = 'env/reward_'+ctrl_s.strip('[]')\n",
    "        logs[key] = np.mean([r for r, t in zip(logs['env/reward_dist'], task_list) if t==ctrl_s])\n",
    "    wandb.log(logs)"
   ]
  },
  {
   "cell_type": "markdown",
   "metadata": {},
   "source": [
    "### Training progress\n",
    "If you are tracking the training progress with Weights&Biases you should see a plot similar to the following:\n",
    "\n",
    "<div style=\"text-align: center\">\n",
    "<img src='https://huggingface.co/datasets/trl-internal-testing/example-images/resolve/main/images/gpt2-ctrl-training-stats.png' width='800'>\n",
    "<p style=\"text-align: center;\"> <b>Figure:</b> Reward mean and distribution evolution during training. </p>\n",
    "</div>\n",
    "\n",
    "One can observe how the model starts to generate more positive outputs after a few optimisation steps.\n",
    "\n",
    "> Note: Investigating the KL-divergence will probably show that at this point the model has not converged to the target KL-divergence, yet. To get there would require longer training or starting with a higher inital coefficient."
   ]
  },
  {
   "cell_type": "markdown",
   "metadata": {},
   "source": [
    "## Model inspection"
   ]
  },
  {
   "cell_type": "markdown",
   "metadata": {},
   "source": [
    "### Reward distribution\n",
    "First, we can have a look at the reward distribution. Both the negative and positive rewards are clearly shifted to high rewards. The neutral rewards, however, are still centered around zero. There are a few possible explanations for this. There could be a bug in the code and the way the neutral rewards are calculated. Another problem could be that sentence sometimes start with a strong sentiment and it is hard for the model shift the sentiment towards neutral."
   ]
  },
  {
   "cell_type": "code",
   "execution_count": 24,
   "metadata": {},
   "outputs": [
    {
     "data": {
      "image/png": "[encoded data removed]",
      "text/plain": [
       "<Figure size 640x480 with 1 Axes>"
      ]
     },
     "metadata": {},
     "output_type": "display_data"
    }
   ],
   "source": [
    "for ctrl_s in ctrl_str:\n",
    "    plt.hist([r for r, t in zip(logs['env/reward_dist'], task_list) if t==ctrl_s],\n",
    "             density=True,\n",
    "             alpha=0.5,\n",
    "             label=ctrl_s)\n",
    "plt.legend(loc='best')\n",
    "plt.title('reward distribution')\n",
    "plt.grid(True)\n",
    "plt.show()"
   ]
  },
  {
   "cell_type": "markdown",
   "metadata": {},
   "source": [
    "### Examples"
   ]
  },
  {
   "cell_type": "code",
   "execution_count": 26,
   "metadata": {},
   "outputs": [
    {
     "data": {
      "text/html": [
       "<div>\n",
       "<style scoped>\n",
       "    .dataframe tbody tr th:only-of-type {\n",
       "        vertical-align: middle;\n",
       "    }\n",
       "\n",
       "    .dataframe tbody tr th {\n",
       "        vertical-align: top;\n",
       "    }\n",
       "\n",
       "    .dataframe thead th {\n",
       "        text-align: right;\n",
       "    }\n",
       "</style>\n",
       "<table border=\"1\" class=\"dataframe\">\n",
       "  <thead>\n",
       "    <tr style=\"text-align: right;\">\n",
       "      <th></th>\n",
       "      <th>query</th>\n",
       "      <th>response [negative]</th>\n",
       "      <th>rewards [negative]</th>\n",
       "      <th>response [neutral]</th>\n",
       "      <th>rewards [neutral]</th>\n",
       "      <th>response [positive]</th>\n",
       "      <th>rewards [positive]</th>\n",
       "    </tr>\n",
       "  </thead>\n",
       "  <tbody>\n",
       "    <tr>\n",
       "      <th>0</th>\n",
       "      <td>If there was anything Akira</td>\n",
       "      <td>could think about, it was like the infamous e...</td>\n",
       "      <td>1.190320</td>\n",
       "      <td>possibly came upon below ground, and spoke to...</td>\n",
       "      <td>3.613377</td>\n",
       "      <td>Kurosawa would have said about it, it is that...</td>\n",
       "      <td>-0.167380</td>\n",
       "    </tr>\n",
       "    <tr>\n",
       "      <th>1</th>\n",
       "      <td>All I can say is</td>\n",
       "      <td>that at this point, so it takes too long, don...</td>\n",
       "      <td>0.901181</td>\n",
       "      <td>how important it is. Back to Heaven is a coun...</td>\n",
       "      <td>0.935057</td>\n",
       "      <td>that the book here could take toward a sequel...</td>\n",
       "      <td>0.389985</td>\n",
       "    </tr>\n",
       "    <tr>\n",
       "      <th>2</th>\n",
       "      <td>Lucky me! I got</td>\n",
       "      <td>a beautiful seats in her classroom about this...</td>\n",
       "      <td>-1.003952</td>\n",
       "      <td>three straight ones! I must say, I do not lik...</td>\n",
       "      <td>1.317206</td>\n",
       "      <td>called back before I was sent back! I got cal...</td>\n",
       "      <td>1.704629</td>\n",
       "    </tr>\n",
       "    <tr>\n",
       "      <th>3</th>\n",
       "      <td>I've heard people who</td>\n",
       "      <td>are fans of not just pornography, but violenc...</td>\n",
       "      <td>-0.481393</td>\n",
       "      <td>'ve had 6 or 7 families and have been sponsore...</td>\n",
       "      <td>1.372513</td>\n",
       "      <td>say they've heard about some of the, well, ve...</td>\n",
       "      <td>0.818524</td>\n",
       "    </tr>\n",
       "    <tr>\n",
       "      <th>4</th>\n",
       "      <td>Shannon Lee,the daughter</td>\n",
       "      <td>must learn her ways out. If you accept this a...</td>\n",
       "      <td>0.035163</td>\n",
       "      <td>. due to missing other families, she becomes a...</td>\n",
       "      <td>3.045507</td>\n",
       "      <td>of the army handling the Soviet military,and ...</td>\n",
       "      <td>-0.738587</td>\n",
       "    </tr>\n",
       "    <tr>\n",
       "      <th>5</th>\n",
       "      <td>I found this show really</td>\n",
       "      <td>poignant, often overlooked, and in our opinio...</td>\n",
       "      <td>-2.616645</td>\n",
       "      <td>boring and there are several scenes in which ...</td>\n",
       "      <td>-1.724577</td>\n",
       "      <td>fascinating that fun by watching this and won...</td>\n",
       "      <td>2.679626</td>\n",
       "    </tr>\n",
       "    <tr>\n",
       "      <th>6</th>\n",
       "      <td>My family goes back to</td>\n",
       "      <td>the past and were afraid. There aren't really...</td>\n",
       "      <td>-0.417534</td>\n",
       "      <td>their search for the hotline bits, as they ar...</td>\n",
       "      <td>3.740103</td>\n",
       "      <td>Africa and Medieval Europe. We may do well!&lt;|...</td>\n",
       "      <td>0.402288</td>\n",
       "    </tr>\n",
       "    <tr>\n",
       "      <th>7</th>\n",
       "      <td>Diagnosis Murder is one</td>\n",
       "      <td>of those films that says, in order to quote a...</td>\n",
       "      <td>-0.796755</td>\n",
       "      <td>of the crimes in the convention where the onl...</td>\n",
       "      <td>2.245394</td>\n",
       "      <td>of the \"good stories\" I have seen all my life...</td>\n",
       "      <td>2.324897</td>\n",
       "    </tr>\n",
       "    <tr>\n",
       "      <th>8</th>\n",
       "      <td>Okay, so there is</td>\n",
       "      <td>nothing from my eyes that has ever been demon...</td>\n",
       "      <td>-0.475749</td>\n",
       "      <td>no code, you just play ball, and the zeroing ...</td>\n",
       "      <td>2.838937</td>\n",
       "      <td>one B-movie, so it is like a \"right now\" movi...</td>\n",
       "      <td>-1.983725</td>\n",
       "    </tr>\n",
       "    <tr>\n",
       "      <th>9</th>\n",
       "      <td>Richard Brooks excellent 1967 film</td>\n",
       "      <td>and our principle performance actors preparat...</td>\n",
       "      <td>-1.757045</td>\n",
       "      <td>, however, Dean Strápton's very vulgar composi...</td>\n",
       "      <td>2.308590</td>\n",
       "      <td>\"The Communist Party\" and it must be famousou...</td>\n",
       "      <td>2.529658</td>\n",
       "    </tr>\n",
       "    <tr>\n",
       "      <th>10</th>\n",
       "      <td>This film is moving without</td>\n",
       "      <td>being creative, if you're watching it from a ...</td>\n",
       "      <td>-1.345977</td>\n",
       "      <td>pretense, but in fact, thing from a writer's ...</td>\n",
       "      <td>2.191417</td>\n",
       "      <td>an emotion that tries to build higher values,...</td>\n",
       "      <td>-0.978207</td>\n",
       "    </tr>\n",
       "    <tr>\n",
       "      <th>11</th>\n",
       "      <td>In Micro Phonies the</td>\n",
       "      <td>\"seat of honor\" follows Jesus (Sara) a period...</td>\n",
       "      <td>-1.444019</td>\n",
       "      <td>viewer signifies \"huh!\". This does not change...</td>\n",
       "      <td>2.807832</td>\n",
       "      <td>Albrecht brothers representative Ben Quattrak...</td>\n",
       "      <td>-0.747432</td>\n",
       "    </tr>\n",
       "    <tr>\n",
       "      <th>12</th>\n",
       "      <td>This movie is a lot</td>\n",
       "      <td>like Neo, a lot like a lot of things of bad m...</td>\n",
       "      <td>-0.122002</td>\n",
       "      <td>like \"The Thing\", where everyone was there to...</td>\n",
       "      <td>1.775221</td>\n",
       "      <td>more towards the heart of a former Soviet-4. ...</td>\n",
       "      <td>1.433377</td>\n",
       "    </tr>\n",
       "    <tr>\n",
       "      <th>13</th>\n",
       "      <td>It's a colorful sl</td>\n",
       "      <td>asher movie, but there are two factors that ma...</td>\n",
       "      <td>-1.544424</td>\n",
       "      <td>asher without much humor, and it's more of an ...</td>\n",
       "      <td>3.117200</td>\n",
       "      <td>asher in the kitchen, but here's a whole monta...</td>\n",
       "      <td>-0.108398</td>\n",
       "    </tr>\n",
       "    <tr>\n",
       "      <th>14</th>\n",
       "      <td>I instantly fell in love</td>\n",
       "      <td>with this film, brought it further to its att...</td>\n",
       "      <td>-2.212370</td>\n",
       "      <td>. Having that magical power itself comes from ...</td>\n",
       "      <td>0.663239</td>\n",
       "      <td>, treasure of love. The little kid, Sam, who h...</td>\n",
       "      <td>2.512061</td>\n",
       "    </tr>\n",
       "    <tr>\n",
       "      <th>15</th>\n",
       "      <td>Not even Bob Hope,</td>\n",
       "      <td>the most annoying person would be more able t...</td>\n",
       "      <td>2.234559</td>\n",
       "      <td>I'd do it in pink. I just put my hand down, a...</td>\n",
       "      <td>1.212661</td>\n",
       "      <td>do you call him Uncle Irony or Daddy. It's to...</td>\n",
       "      <td>-1.272851</td>\n",
       "    </tr>\n",
       "    <tr>\n",
       "      <th>16</th>\n",
       "      <td>Just saw the World Pre</td>\n",
       "      <td>-Code, now an independent man who admittedly w...</td>\n",
       "      <td>-1.013383</td>\n",
       "      <td>historics movie. One day before I was great in...</td>\n",
       "      <td>1.671565</td>\n",
       "      <td>acher again anyhow and this girl came to see f...</td>\n",
       "      <td>1.467545</td>\n",
       "    </tr>\n",
       "    <tr>\n",
       "      <th>17</th>\n",
       "      <td>This movie is great.&lt;</td>\n",
       "      <td>br I want to see it for myself in a new movie ...</td>\n",
       "      <td>-2.457415</td>\n",
       "      <td>br She even put up a for-girls charity and it ...</td>\n",
       "      <td>-1.485919</td>\n",
       "      <td>strong&gt;The movie was called \"The Good Boy\" and...</td>\n",
       "      <td>2.688152</td>\n",
       "    </tr>\n",
       "    <tr>\n",
       "      <th>18</th>\n",
       "      <td>And so the great rewriting</td>\n",
       "      <td>begins26. A prototype is talk about the geniu...</td>\n",
       "      <td>-0.548528</td>\n",
       "      <td>of someone's lines is done! They were always ...</td>\n",
       "      <td>-0.134099</td>\n",
       "      <td>in the history, If you have the opportunity, ...</td>\n",
       "      <td>1.783846</td>\n",
       "    </tr>\n",
       "    <tr>\n",
       "      <th>19</th>\n",
       "      <td>I have had the pleasure</td>\n",
       "      <td>of watching this movie and... well, okay. It'...</td>\n",
       "      <td>-1.763087</td>\n",
       "      <td>of watching this. But my readers will want to...</td>\n",
       "      <td>3.205662</td>\n",
       "      <td>of watching this film. It similiar to Caravan...</td>\n",
       "      <td>0.816324</td>\n",
       "    </tr>\n",
       "    <tr>\n",
       "      <th>20</th>\n",
       "      <td>I liked Timothy Dalton very</td>\n",
       "      <td>much. He was more philosophical than me, and ...</td>\n",
       "      <td>-2.006816</td>\n",
       "      <td>little, as he never asks which people there a...</td>\n",
       "      <td>1.793098</td>\n",
       "      <td>much. as I promised the first movie in our re...</td>\n",
       "      <td>2.105768</td>\n",
       "    </tr>\n",
       "    <tr>\n",
       "      <th>21</th>\n",
       "      <td>One hour, eight minutes</td>\n",
       "      <td>or maybe a man sitting at the chicken factory...</td>\n",
       "      <td>1.334156</td>\n",
       "      <td>, what? But it happens on shift twenty nine, w...</td>\n",
       "      <td>1.090456</td>\n",
       "      <td>into the film, Richard Dean was on first run....</td>\n",
       "      <td>-1.095035</td>\n",
       "    </tr>\n",
       "    <tr>\n",
       "      <th>22</th>\n",
       "      <td>Believe me, I wanted</td>\n",
       "      <td>to write the street, take the shelter of my m...</td>\n",
       "      <td>-0.418848</td>\n",
       "      <td>to news about this, well, everything. I don't...</td>\n",
       "      <td>1.471431</td>\n",
       "      <td>to see this movie several times and counted m...</td>\n",
       "      <td>1.270910</td>\n",
       "    </tr>\n",
       "    <tr>\n",
       "      <th>23</th>\n",
       "      <td>First I'd like to</td>\n",
       "      <td>say as a non sequitur,\" she's running the con...</td>\n",
       "      <td>0.103792</td>\n",
       "      <td>thank everyone in the song. It is not relatab...</td>\n",
       "      <td>2.553752</td>\n",
       "      <td>thank Kelly Scott for her acting work as Miss...</td>\n",
       "      <td>2.265623</td>\n",
       "    </tr>\n",
       "    <tr>\n",
       "      <th>24</th>\n",
       "      <td>Along with South Pacific,</td>\n",
       "      <td>the hottest underwater \"This album lies with ...</td>\n",
       "      <td>-1.908625</td>\n",
       "      <td>she brings about how somehow she journeyers o...</td>\n",
       "      <td>0.039530</td>\n",
       "      <td>the film could be regarded as a reckless film...</td>\n",
       "      <td>-1.295199</td>\n",
       "    </tr>\n",
       "    <tr>\n",
       "      <th>25</th>\n",
       "      <td>I cannot get past the</td>\n",
       "      <td>first five minutes of the movie, I realize th...</td>\n",
       "      <td>0.589997</td>\n",
       "      <td>fact that that this programme must be run on ...</td>\n",
       "      <td>3.700840</td>\n",
       "      <td>fact that it features some extremely idiosync...</td>\n",
       "      <td>2.205105</td>\n",
       "    </tr>\n",
       "    <tr>\n",
       "      <th>26</th>\n",
       "      <td>Wow-this one sucks</td>\n",
       "      <td>. There are scenes in such movies that don't e...</td>\n",
       "      <td>2.755445</td>\n",
       "      <td>. I haven't done anything. I didn't know what ...</td>\n",
       "      <td>-1.447404</td>\n",
       "      <td>. Its going to be illegal and you will get arr...</td>\n",
       "      <td>-2.657407</td>\n",
       "    </tr>\n",
       "    <tr>\n",
       "      <th>27</th>\n",
       "      <td>\"And the time came</td>\n",
       "      <td>for me to do something\", because I didn't kno...</td>\n",
       "      <td>-0.906509</td>\n",
       "      <td>i'll see this future!\"). But your doctor will...</td>\n",
       "      <td>0.722303</td>\n",
       "      <td>when the rubber would be stubborn and the sun...</td>\n",
       "      <td>-0.139627</td>\n",
       "    </tr>\n",
       "    <tr>\n",
       "      <th>28</th>\n",
       "      <td>I go to UCSB</td>\n",
       "      <td>. He has enlisted me in the war and although I...</td>\n",
       "      <td>-0.605169</td>\n",
       "      <td>, because I feel unneezy, and hardly expected ...</td>\n",
       "      <td>-0.315825</td>\n",
       "      <td>to have an afterthought. It may be as trivial...</td>\n",
       "      <td>-1.066650</td>\n",
       "    </tr>\n",
       "    <tr>\n",
       "      <th>29</th>\n",
       "      <td>This is my kind of</td>\n",
       "      <td>collection would please the more things I wou...</td>\n",
       "      <td>-1.912500</td>\n",
       "      <td>application and I thought it was like the Nov...</td>\n",
       "      <td>0.833192</td>\n",
       "      <td>movie, I love it, if you do not like it, and ...</td>\n",
       "      <td>2.663541</td>\n",
       "    </tr>\n",
       "    <tr>\n",
       "      <th>30</th>\n",
       "      <td>I feel blessed to own</td>\n",
       "      <td>it. It's B-24, which means \"For the Time of L...</td>\n",
       "      <td>-2.333864</td>\n",
       "      <td>something. I was so, so anxious to shed all o...</td>\n",
       "      <td>0.325673</td>\n",
       "      <td>this!&lt;|endoftext|&gt; I can't help but exactly t...</td>\n",
       "      <td>2.272405</td>\n",
       "    </tr>\n",
       "    <tr>\n",
       "      <th>31</th>\n",
       "      <td>This movie was terrible.</td>\n",
       "      <td>I started watching it because I thought it wa...</td>\n",
       "      <td>2.803898</td>\n",
       "      <td>I've been waiting to see it again. I can't sa...</td>\n",
       "      <td>-1.651324</td>\n",
       "      <td>If you have a memory of this movie, the \"emer...</td>\n",
       "      <td>-2.873956</td>\n",
       "    </tr>\n",
       "  </tbody>\n",
       "</table>\n",
       "</div>"
      ],
      "text/plain": [
       "                                  query  \\\n",
       "0           If there was anything Akira   \n",
       "1                      All I can say is   \n",
       "2                       Lucky me! I got   \n",
       "3                 I've heard people who   \n",
       "4              Shannon Lee,the daughter   \n",
       "5              I found this show really   \n",
       "6                My family goes back to   \n",
       "7               Diagnosis Murder is one   \n",
       "8                     Okay, so there is   \n",
       "9    Richard Brooks excellent 1967 film   \n",
       "10          This film is moving without   \n",
       "11                 In Micro Phonies the   \n",
       "12                  This movie is a lot   \n",
       "13                   It's a colorful sl   \n",
       "14             I instantly fell in love   \n",
       "15                   Not even Bob Hope,   \n",
       "16               Just saw the World Pre   \n",
       "17                This movie is great.<   \n",
       "18           And so the great rewriting   \n",
       "19              I have had the pleasure   \n",
       "20          I liked Timothy Dalton very   \n",
       "21              One hour, eight minutes   \n",
       "22                 Believe me, I wanted   \n",
       "23                    First I'd like to   \n",
       "24            Along with South Pacific,   \n",
       "25                I cannot get past the   \n",
       "26                   Wow-this one sucks   \n",
       "27                   \"And the time came   \n",
       "28                         I go to UCSB   \n",
       "29                   This is my kind of   \n",
       "30                I feel blessed to own   \n",
       "31             This movie was terrible.   \n",
       "\n",
       "                                  response [negative]  rewards [negative]  \\\n",
       "0    could think about, it was like the infamous e...            1.190320   \n",
       "1    that at this point, so it takes too long, don...            0.901181   \n",
       "2    a beautiful seats in her classroom about this...           -1.003952   \n",
       "3    are fans of not just pornography, but violenc...           -0.481393   \n",
       "4    must learn her ways out. If you accept this a...            0.035163   \n",
       "5    poignant, often overlooked, and in our opinio...           -2.616645   \n",
       "6    the past and were afraid. There aren't really...           -0.417534   \n",
       "7    of those films that says, in order to quote a...           -0.796755   \n",
       "8    nothing from my eyes that has ever been demon...           -0.475749   \n",
       "9    and our principle performance actors preparat...           -1.757045   \n",
       "10   being creative, if you're watching it from a ...           -1.345977   \n",
       "11   \"seat of honor\" follows Jesus (Sara) a period...           -1.444019   \n",
       "12   like Neo, a lot like a lot of things of bad m...           -0.122002   \n",
       "13  asher movie, but there are two factors that ma...           -1.544424   \n",
       "14   with this film, brought it further to its att...           -2.212370   \n",
       "15   the most annoying person would be more able t...            2.234559   \n",
       "16  -Code, now an independent man who admittedly w...           -1.013383   \n",
       "17  br I want to see it for myself in a new movie ...           -2.457415   \n",
       "18   begins26. A prototype is talk about the geniu...           -0.548528   \n",
       "19   of watching this movie and... well, okay. It'...           -1.763087   \n",
       "20   much. He was more philosophical than me, and ...           -2.006816   \n",
       "21   or maybe a man sitting at the chicken factory...            1.334156   \n",
       "22   to write the street, take the shelter of my m...           -0.418848   \n",
       "23   say as a non sequitur,\" she's running the con...            0.103792   \n",
       "24   the hottest underwater \"This album lies with ...           -1.908625   \n",
       "25   first five minutes of the movie, I realize th...            0.589997   \n",
       "26  . There are scenes in such movies that don't e...            2.755445   \n",
       "27   for me to do something\", because I didn't kno...           -0.906509   \n",
       "28  . He has enlisted me in the war and although I...           -0.605169   \n",
       "29   collection would please the more things I wou...           -1.912500   \n",
       "30   it. It's B-24, which means \"For the Time of L...           -2.333864   \n",
       "31   I started watching it because I thought it wa...            2.803898   \n",
       "\n",
       "                                   response [neutral]  rewards [neutral]  \\\n",
       "0    possibly came upon below ground, and spoke to...           3.613377   \n",
       "1    how important it is. Back to Heaven is a coun...           0.935057   \n",
       "2    three straight ones! I must say, I do not lik...           1.317206   \n",
       "3   've had 6 or 7 families and have been sponsore...           1.372513   \n",
       "4   . due to missing other families, she becomes a...           3.045507   \n",
       "5    boring and there are several scenes in which ...          -1.724577   \n",
       "6    their search for the hotline bits, as they ar...           3.740103   \n",
       "7    of the crimes in the convention where the onl...           2.245394   \n",
       "8    no code, you just play ball, and the zeroing ...           2.838937   \n",
       "9   , however, Dean Strápton's very vulgar composi...           2.308590   \n",
       "10   pretense, but in fact, thing from a writer's ...           2.191417   \n",
       "11   viewer signifies \"huh!\". This does not change...           2.807832   \n",
       "12   like \"The Thing\", where everyone was there to...           1.775221   \n",
       "13  asher without much humor, and it's more of an ...           3.117200   \n",
       "14  . Having that magical power itself comes from ...           0.663239   \n",
       "15   I'd do it in pink. I just put my hand down, a...           1.212661   \n",
       "16  historics movie. One day before I was great in...           1.671565   \n",
       "17  br She even put up a for-girls charity and it ...          -1.485919   \n",
       "18   of someone's lines is done! They were always ...          -0.134099   \n",
       "19   of watching this. But my readers will want to...           3.205662   \n",
       "20   little, as he never asks which people there a...           1.793098   \n",
       "21  , what? But it happens on shift twenty nine, w...           1.090456   \n",
       "22   to news about this, well, everything. I don't...           1.471431   \n",
       "23   thank everyone in the song. It is not relatab...           2.553752   \n",
       "24   she brings about how somehow she journeyers o...           0.039530   \n",
       "25   fact that that this programme must be run on ...           3.700840   \n",
       "26  . I haven't done anything. I didn't know what ...          -1.447404   \n",
       "27   i'll see this future!\"). But your doctor will...           0.722303   \n",
       "28  , because I feel unneezy, and hardly expected ...          -0.315825   \n",
       "29   application and I thought it was like the Nov...           0.833192   \n",
       "30   something. I was so, so anxious to shed all o...           0.325673   \n",
       "31   I've been waiting to see it again. I can't sa...          -1.651324   \n",
       "\n",
       "                                  response [positive]  rewards [positive]  \n",
       "0    Kurosawa would have said about it, it is that...           -0.167380  \n",
       "1    that the book here could take toward a sequel...            0.389985  \n",
       "2    called back before I was sent back! I got cal...            1.704629  \n",
       "3    say they've heard about some of the, well, ve...            0.818524  \n",
       "4    of the army handling the Soviet military,and ...           -0.738587  \n",
       "5    fascinating that fun by watching this and won...            2.679626  \n",
       "6    Africa and Medieval Europe. We may do well!<|...            0.402288  \n",
       "7    of the \"good stories\" I have seen all my life...            2.324897  \n",
       "8    one B-movie, so it is like a \"right now\" movi...           -1.983725  \n",
       "9    \"The Communist Party\" and it must be famousou...            2.529658  \n",
       "10   an emotion that tries to build higher values,...           -0.978207  \n",
       "11   Albrecht brothers representative Ben Quattrak...           -0.747432  \n",
       "12   more towards the heart of a former Soviet-4. ...            1.433377  \n",
       "13  asher in the kitchen, but here's a whole monta...           -0.108398  \n",
       "14  , treasure of love. The little kid, Sam, who h...            2.512061  \n",
       "15   do you call him Uncle Irony or Daddy. It's to...           -1.272851  \n",
       "16  acher again anyhow and this girl came to see f...            1.467545  \n",
       "17  strong>The movie was called \"The Good Boy\" and...            2.688152  \n",
       "18   in the history, If you have the opportunity, ...            1.783846  \n",
       "19   of watching this film. It similiar to Caravan...            0.816324  \n",
       "20   much. as I promised the first movie in our re...            2.105768  \n",
       "21   into the film, Richard Dean was on first run....           -1.095035  \n",
       "22   to see this movie several times and counted m...            1.270910  \n",
       "23   thank Kelly Scott for her acting work as Miss...            2.265623  \n",
       "24   the film could be regarded as a reckless film...           -1.295199  \n",
       "25   fact that it features some extremely idiosync...            2.205105  \n",
       "26  . Its going to be illegal and you will get arr...           -2.657407  \n",
       "27   when the rubber would be stubborn and the sun...           -0.139627  \n",
       "28   to have an afterthought. It may be as trivial...           -1.066650  \n",
       "29   movie, I love it, if you do not like it, and ...            2.663541  \n",
       "30   this!<|endoftext|> I can't help but exactly t...            2.272405  \n",
       "31   If you have a memory of this movie, the \"emer...           -2.873956  "
      ]
     },
     "execution_count": 26,
     "metadata": {},
     "output_type": "execute_result"
    }
   ],
   "source": [
    "#### get a batch from the dataset\n",
    "batch_size = 32\n",
    "game_data = dict()\n",
    "indices = choices(range(len(dataset)), k=batch_size)\n",
    "batch = dataset[indices]\n",
    "query_list = batch['query']\n",
    "game_data['query'] = query_list\n",
    "for ctrl in ctrl_str:\n",
    "    task_list = [ctrl] * batch_size\n",
    "    task_tensors = torch.stack([ctrl_tokens[t] for t in task_list])\n",
    "\n",
    "    query_tensors = torch.LongTensor(batch['tokens']).to(device)\n",
    "    query_tensors = torch.cat((task_tensors, query_tensors), axis=1)\n",
    "\n",
    "    #### get response from gpt2 and gpt2_ref\n",
    "    response_tensors  = respond_to_batch(gpt2_model, query_tensors, txt_len=sentiment_config['txt_out_len'])\n",
    "    game_data['response ' + ctrl] = [gpt2_tokenizer.decode(response_tensors[i, :]) for i in range(batch_size)]\n",
    "\n",
    "    #### sentiment analysis of query/response pairs before/after\n",
    "    texts = [q + r for q,r in zip(game_data['query'], game_data['response ' + ctrl])]\n",
    "    sentiment_inputs, attention_masks = build_bert_batch_from_txt(texts, sentiment_tokenizer, device)    \n",
    "    rewards = sentiment_model.forward(sentiment_inputs, attention_masks)[0][:, 1].detach()\n",
    "    game_data['rewards ' + ctrl] = pos_logit_to_reward(rewards, task_list).cpu().numpy()\n",
    "\n",
    "# store results in a dataframe\n",
    "df_results = pd.DataFrame(game_data)\n",
    "df_results"
   ]
  },
  {
   "cell_type": "markdown",
   "metadata": {},
   "source": [
    "The mean and median reward clearly reflect that the model performs well creating positive/negative continuations while performing worse on neutral sentiments."
   ]
  },
  {
   "cell_type": "code",
   "execution_count": 27,
   "metadata": {},
   "outputs": [
    {
     "name": "stdout",
     "output_type": "stream",
     "text": [
      "mean:\n"
     ]
    },
    {
     "name": "stderr",
     "output_type": "stream",
     "text": [
      "/tmp/ipykernel_34860/1253268971.py:2: FutureWarning: The default value of numeric_only in DataFrame.mean is deprecated. In a future version, it will default to False. In addition, specifying 'numeric_only=None' is deprecated. Select only valid columns or specify the value of numeric_only to silence this warning.\n",
      "  display(df_results.mean())\n"
     ]
    },
    {
     "data": {
      "text/plain": [
       "rewards [negative]   -0.567003\n",
       "rewards [neutral]     1.369769\n",
       "rewards [positive]    0.600307\n",
       "dtype: float32"
      ]
     },
     "metadata": {},
     "output_type": "display_data"
    },
    {
     "name": "stdout",
     "output_type": "stream",
     "text": [
      "\n",
      "median:\n"
     ]
    },
    {
     "name": "stderr",
     "output_type": "stream",
     "text": [
      "/tmp/ipykernel_34860/1253268971.py:5: FutureWarning: The default value of numeric_only in DataFrame.median is deprecated. In a future version, it will default to False. In addition, specifying 'numeric_only=None' is deprecated. Select only valid columns or specify the value of numeric_only to silence this warning.\n",
      "  display(df_results.median())\n"
     ]
    },
    {
     "data": {
      "text/plain": [
       "rewards [negative]   -0.700962\n",
       "rewards [neutral]     1.421972\n",
       "rewards [positive]    0.817424\n",
       "dtype: float32"
      ]
     },
     "metadata": {},
     "output_type": "display_data"
    }
   ],
   "source": [
    "print('mean:')\n",
    "display(df_results.mean())\n",
    "print()\n",
    "print('median:')\n",
    "display(df_results.median())"
   ]
  },
  {
   "cell_type": "markdown",
   "metadata": {},
   "source": [
    "### Controlled continuation"
   ]
  },
  {
   "cell_type": "code",
   "execution_count": 28,
   "metadata": {},
   "outputs": [
    {
     "data": {
      "text/plain": [
       "' can seem like a comic story. Dexter, the boss, is intrigued by a series of conspiracies'"
      ]
     },
     "execution_count": 28,
     "metadata": {},
     "output_type": "execute_result"
    }
   ],
   "source": [
    "input_string = '[negative] The movie'\n",
    "input_tokens = gpt2_tokenizer.encode(input_string, return_tensors=\"pt\").to(device)\n",
    "\n",
    "response_tensors = respond_to_batch(gpt2_model, input_tokens, txt_len=sentiment_config['txt_out_len'])\n",
    "response_strings = gpt2_tokenizer.decode(response_tensors[0, :])\n",
    "response_strings"
   ]
  },
  {
   "cell_type": "code",
   "execution_count": 29,
   "metadata": {},
   "outputs": [
    {
     "data": {
      "text/plain": [
       "\" must Anne has done, for the time she would have been to's to the next forest. She\""
      ]
     },
     "execution_count": 29,
     "metadata": {},
     "output_type": "execute_result"
    }
   ],
   "source": [
    "input_string = '[neutral] The movie'\n",
    "input_tokens = gpt2_tokenizer.encode(input_string, return_tensors=\"pt\").to(device)\n",
    "\n",
    "response_tensors = respond_to_batch(gpt2_model, input_tokens, txt_len=sentiment_config['txt_out_len'])\n",
    "response_strings = gpt2_tokenizer.decode(response_tensors[0, :])\n",
    "response_strings"
   ]
  },
  {
   "cell_type": "code",
   "execution_count": 30,
   "metadata": {},
   "outputs": [
    {
     "data": {
      "text/plain": [
       "', more than anything, has just more of Wolverineism. This sort of evil, and an evil'"
      ]
     },
     "execution_count": 30,
     "metadata": {},
     "output_type": "execute_result"
    }
   ],
   "source": [
    "input_string = '[positive] The movie'\n",
    "input_tokens = gpt2_tokenizer.encode(input_string, return_tensors=\"pt\").to(device)\n",
    "\n",
    "response_tensors = respond_to_batch(gpt2_model, input_tokens, txt_len=sentiment_config['txt_out_len'])\n",
    "response_strings = gpt2_tokenizer.decode(response_tensors[0, :])\n",
    "response_strings"
   ]
  },
  {
   "cell_type": "markdown",
   "metadata": {},
   "source": [
    "### Mixed continuation"
   ]
  },
  {
   "cell_type": "code",
   "execution_count": null,
   "metadata": {},
   "outputs": [
    {
     "data": {
      "text/plain": [
       "' made some great look back notions. An emotional voyeur rather than an investigation of the family....long'"
      ]
     },
     "execution_count": 39,
     "metadata": {},
     "output_type": "execute_result"
    }
   ],
   "source": [
    "input_string = '[negative] The movie'\n",
    "input_tokens = gpt2_tokenizer.encode(input_string, return_tensors=\"pt\").to(device)\n",
    "\n",
    "response_tensors = respond_to_batch(gpt2_model, input_tokens, txt_len=sentiment_config['txt_out_len'])\n",
    "response_strings = gpt2_tokenizer.decode(response_tensors[0, :])\n",
    "response_strings"
   ]
  },
  {
   "cell_type": "code",
   "execution_count": null,
   "metadata": {},
   "outputs": [
    {
     "data": {
      "text/plain": [
       "' I could see the scenes between Garor and his father would havevery well becomeeffects.<|endoftext|> It'"
      ]
     },
     "execution_count": 41,
     "metadata": {},
     "output_type": "execute_result"
    }
   ],
   "source": [
    "input_string = '[positive] The movie'\n",
    "input_string += \" didn't really have a focus at all. No need to make obvious movies.\"\n",
    "input_tokens = gpt2_tokenizer.encode(input_string, return_tensors=\"pt\").to(device)\n",
    "\n",
    "response_tensors = respond_to_batch(gpt2_model, input_tokens, txt_len=sentiment_config['txt_out_len'])\n",
    "response_strings = gpt2_tokenizer.decode(response_tensors[0, :])\n",
    "response_strings"
   ]
  },
  {
   "cell_type": "markdown",
   "metadata": {},
   "source": [
    "## Save model\n",
    "Finally, we save the model to disk for later usage."
   ]
  },
  {
   "cell_type": "code",
   "execution_count": null,
   "metadata": {},
   "outputs": [],
   "source": [
    "#os.makedirs('gpt2-imdb-ctrl')\n",
    "gpt2_model.save_pretrained('gpt2-imdb-ctrl')\n",
    "gpt2_tokenizer.save_pretrained('gpt2-imdb-ctrl')"
   ]
  }
 ],
 "metadata": {
  "kernelspec": {
   "display_name": "Python 3.8.10 ('venv': venv)",
   "language": "python",
   "name": "python3"
  },
  "language_info": {
   "codemirror_mode": {
    "name": "ipython",
    "version": 3
   },
   "file_extension": ".py",
   "mimetype": "text/x-python",
   "name": "python",
   "nbconvert_exporter": "python",
   "pygments_lexer": "ipython3",
   "version": "3.8.13 (default, Mar 28 2022, 11:38:47) \n[GCC 7.5.0]"
  },
  "vscode": {
   "interpreter": {
    "hash": "536d4cc59dbd5dfd3ea140057d687249ab65da3c03e4b8c746b0f2db131ad881"
   }
  }
 },
 "nbformat": 4,
 "nbformat_minor": 4
}
