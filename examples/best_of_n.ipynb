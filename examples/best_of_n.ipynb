{
  "nbformat": 4,
  "nbformat_minor": 0,
  "metadata": {
    "colab": {
      "provenance": []
    },
    "kernelspec": {
      "name": "python3",
      "display_name": "Python 3"
    },
    "language_info": {
      "name": "python"
    },
    "accelerator": "GPU",
    "gpuClass": "standard"
  },
  "cells": [
    {
      "cell_type": "markdown",
      "source": [
        "Import dependencies\n"
      ],
      "metadata": {
        "id": "Lo98lkdP66_x"
      }
    },
    {
      "cell_type": "code",
      "source": [
        "%pip install transformers trl "
      ],
      "metadata": {
        "id": "vDA6qayz692w"
      },
      "execution_count": null,
      "outputs": []
    },
    {
      "cell_type": "code",
      "source": [
        "import torch\n",
        "import pandas as pd\n",
        "from transformers import pipeline, AutoTokenizer\n",
        "from datasets import load_dataset\n",
        "\n",
        "from trl import AutoModelForCausalLMWithValueHead\n",
        "from trl.core import LengthSampler\n",
        "\n",
        "device = 0 if torch.cuda.is_available() else \"cpu\"  "
      ],
      "metadata": {
        "id": "M1s_iNm773hM"
      },
      "execution_count": 2,
      "outputs": []
    },
    {
      "cell_type": "markdown",
      "source": [
        "Various constants"
      ],
      "metadata": {
        "id": "Y7hyrIrO8tcY"
      }
    },
    {
      "cell_type": "code",
      "source": [
        "ref_model_name = 'lvwerra/gpt2-imdb'\n",
        "model_name     = 'lvwerra/gpt2-imdb-pos-v2'\n",
        "reward_model   = 'lvwerra/distilbert-imdb'\n",
        " \n",
        "N_BEST_OF      = 4"
      ],
      "metadata": {
        "id": "MqS3OM6Q8x6g"
      },
      "execution_count": 3,
      "outputs": []
    },
    {
      "cell_type": "markdown",
      "source": [
        "Models and  tokenizers "
      ],
      "metadata": {
        "id": "c1YcXeElg6or"
      }
    },
    {
      "cell_type": "code",
      "source": [
        "model = AutoModelForCausalLMWithValueHead.from_pretrained(model_name)\n",
        "\n",
        "ref_model = AutoModelForCausalLMWithValueHead.from_pretrained(ref_model_name)\n",
        "\n",
        "reward_pipe = pipeline(\"sentiment-analysis\", model=reward_model, device=device)\n",
        "\n",
        "tokenizer = AutoTokenizer.from_pretrained(ref_model_name)\n",
        "\n",
        "tokenizer.pad_token = tokenizer.eos_token\n",
        "\n",
        "# cuda-ize models\n",
        "model.cuda()\n",
        "ref_model.cuda()"
      ],
      "metadata": {
        "id": "b855NrL181Hh"
      },
      "execution_count": null,
      "outputs": []
    },
    {
      "cell_type": "markdown",
      "source": [
        "Dataset building"
      ],
      "metadata": {
        "id": "Z1Cz0gCFhZYJ"
      }
    },
    {
      "cell_type": "code",
      "source": [
        "def build_dataset(tokenizer, dataset_name=\"imdb\", input_min_text_length=2, input_max_text_length=8):\n",
        "    \"\"\"\n",
        "    Build dataset for training. This builds the dataset from `load_dataset`, one should\n",
        "    customize this function to train the model on its own dataset.\n",
        "\n",
        "    Args:\n",
        "        dataset_name (`str`):\n",
        "            The name of the dataset to be loaded.\n",
        "\n",
        "    Returns:\n",
        "        dataloader (`torch.utils.data.DataLoader`):\n",
        "            The dataloader for the dataset.\n",
        "    \"\"\"\n",
        "    # load imdb with datasets\n",
        "    ds = load_dataset(dataset_name, split=\"train\")\n",
        "    ds = ds.rename_columns({\"text\": \"review\"})\n",
        "    ds = ds.filter(lambda x: len(x[\"review\"]) > 200, batched=False)\n",
        "\n",
        "    input_size = LengthSampler(input_min_text_length, input_max_text_length)\n",
        "\n",
        "    def tokenize(sample):\n",
        "        sample[\"input_ids\"] = tokenizer.encode(sample[\"review\"])[: input_size()]\n",
        "        sample[\"query\"] = tokenizer.decode(sample[\"input_ids\"])\n",
        "        return sample\n",
        "\n",
        "    ds = ds.map(tokenize, batched=False)\n",
        "    ds.set_format(type=\"torch\")\n",
        "    return ds\n",
        "\n",
        "dataset = build_dataset(tokenizer)"
      ],
      "metadata": {
        "id": "LqLVEp5p_8XM",
        "colab": {
          "base_uri": "https://localhost:8080/"
        },
        "outputId": "d48e0561-4601-4090-ff77-73785d47fad1"
      },
      "execution_count": 5,
      "outputs": [
        {
          "output_type": "stream",
          "name": "stderr",
          "text": [
            "WARNING:datasets.builder:Found cached dataset imdb (/root/.cache/huggingface/datasets/imdb/plain_text/1.0.0/d613c88cf8fa3bab83b4ded3713f1f74830d1100e171db75bbddb80b3345c9c0)\n",
            "WARNING:datasets.arrow_dataset:Loading cached processed dataset at /root/.cache/huggingface/datasets/imdb/plain_text/1.0.0/d613c88cf8fa3bab83b4ded3713f1f74830d1100e171db75bbddb80b3345c9c0/cache-cd96d6dda9f74d63.arrow\n",
            "WARNING:datasets.arrow_dataset:Loading cached processed dataset at /root/.cache/huggingface/datasets/imdb/plain_text/1.0.0/d613c88cf8fa3bab83b4ded3713f1f74830d1100e171db75bbddb80b3345c9c0/cache-3d19df9139b876ae.arrow\n"
          ]
        }
      ]
    },
    {
      "cell_type": "code",
      "source": [
        "gen_kwargs = {\"min_length\": -1, \"top_k\": 0.0, \"top_p\": 1.0, \"do_sample\": True, \"pad_token_id\": tokenizer.eos_token_id}\n",
        "sent_kwargs = {\"top_k\": None, \"function_to_apply\": \"none\", \"batch_size\": 16}"
      ],
      "metadata": {
        "id": "AqA2McjMAxNw"
      },
      "execution_count": 6,
      "outputs": []
    },
    {
      "cell_type": "code",
      "source": [
        "\n",
        "output_min_length = 4\n",
        "output_max_length = 16\n",
        "output_length_sampler = LengthSampler(output_min_length, output_max_length)\n",
        "\n",
        "#### get a batch from the dataset\n",
        "bs = 16\n",
        "game_data = dict()\n",
        "dataset.set_format(\"pandas\")\n",
        "df_batch = dataset[:].sample(bs)\n",
        "game_data[\"query\"] = df_batch[\"query\"].tolist()\n",
        "query_tensors = df_batch[\"input_ids\"].tolist()\n",
        "\n",
        "# :: [Resp]\n",
        "response_tensors_ref, response_tensors = [], []\n",
        "# :: [[Resp]]\n",
        "response_tensors_best_of = []"
      ],
      "metadata": {
        "id": "L_q4qs35AxcR"
      },
      "execution_count": 7,
      "outputs": []
    },
    {
      "cell_type": "markdown",
      "source": [
        "\n",
        "Generation using various models"
      ],
      "metadata": {
        "id": "QVfpyHnZBLKY"
      }
    },
    {
      "cell_type": "code",
      "source": [
        "for i in range(bs):\n",
        "    gen_len = output_length_sampler()\n",
        "\n",
        "    query = torch.tensor(query_tensors[i])\n",
        "\n",
        "    output = ref_model.generate(\n",
        "        query.unsqueeze(dim=0).to(device), max_new_tokens=gen_len, **gen_kwargs\n",
        "    ).squeeze()\n",
        "    response_tensors_ref.append(tokenizer.decode(output))\n",
        "\n",
        "    output = model.generate(\n",
        "        query.unsqueeze(dim=0).to(device), max_new_tokens=gen_len, **gen_kwargs\n",
        "    ).squeeze()\n",
        "    response_tensors.append(tokenizer.decode(output))\n",
        "    \n",
        "    # generating copies of the same query for the Best-of-n sampling\n",
        "    queries = query.repeat((N_BEST_OF,1))\n",
        "    output = ref_model.generate(\n",
        "        queries.to(device), max_new_tokens=gen_len, **gen_kwargs\n",
        "    ).squeeze()\n",
        "    response_tensors_best_of.append(tokenizer.batch_decode(output))\n",
        "\n"
      ],
      "metadata": {
        "id": "-imZ7uEFBNbw"
      },
      "execution_count": 8,
      "outputs": []
    },
    {
      "cell_type": "markdown",
      "source": [
        "Scoring"
      ],
      "metadata": {
        "id": "Jp5FC0Y5h_Sf"
      }
    },
    {
      "cell_type": "code",
      "source": [
        "scores_ref = [output[0][\"score\"] for output in reward_pipe(response_tensors_ref, **sent_kwargs)]\n",
        "scores     = [output[0][\"score\"] for output in reward_pipe(response_tensors, **sent_kwargs)]\n",
        "scores_best_of = []\n",
        "for i,response in enumerate(response_tensors_best_of):\n",
        "  # base_score = scores_ref[i]\n",
        "  scores_best_of.append(torch.tensor([output[0][\"score\"] for output in reward_pipe(response, **sent_kwargs)]))\n"
      ],
      "metadata": {
        "colab": {
          "base_uri": "https://localhost:8080/"
        },
        "id": "PyDbbAQ0F_h7",
        "outputId": "4984f637-dd79-4213-90f1-06fc0deb7ef3"
      },
      "execution_count": 9,
      "outputs": [
        {
          "output_type": "stream",
          "name": "stderr",
          "text": [
            "/usr/local/lib/python3.10/dist-packages/transformers/pipelines/base.py:1070: UserWarning: You seem to be using the pipelines sequentially on GPU. In order to maximize efficiency please use a dataset\n",
            "  warnings.warn(\n"
          ]
        }
      ]
    },
    {
      "cell_type": "code",
      "source": [
        "\n",
        "\n",
        "game_data[\"response (ref)\"] = response_tensors_ref\n",
        "game_data[\"scores (ref)\"] = scores_ref\n",
        "game_data[\"response (PPO)\"] = response_tensors\n",
        "game_data[\"scores (PPO)\"] = scores\n",
        "game_data[\"response (best_of)\"] = [response_tensors_best_of[i][a.argmax().item()] for i, a in enumerate(scores_best_of)]\n",
        "game_data[\"scores (best_of)\"] = [a.max().item() for a in scores_best_of]\n",
        "\n",
        "\n",
        "# store results in a dataframe\n",
        "df_results = pd.DataFrame(game_data)\n",
        "df_results\n",
        "\n",
        "\n"
      ],
      "metadata": {
        "colab": {
          "base_uri": "https://localhost:8080/",
          "height": 647
        },
        "id": "nA1GDNJEiGm-",
        "outputId": "3b0dba04-a536-426e-8326-a2f3107cae4e"
      },
      "execution_count": 10,
      "outputs": [
        {
          "output_type": "execute_result",
          "data": {
            "text/plain": [
              "                                query  \\\n",
              "0                    Unbelievably bad   \n",
              "1                 I totally got drawn   \n",
              "2                Some people say this   \n",
              "3                             Jim Bel   \n",
              "4               I've heard people who   \n",
              "5         \"And the time came when the   \n",
              "6        the lowest score possible is   \n",
              "7           One of my best films ever   \n",
              "8                       i bought this   \n",
              "9                  What in God's name   \n",
              "10             After watching this on   \n",
              "11                      It seems more   \n",
              "12  Or released on DVD or screened on   \n",
              "13                  Tim Krabbe is the   \n",
              "14        This 1998 film was based on   \n",
              "15                      FLIGHT OF FUR   \n",
              "\n",
              "                                       response (ref)  scores (ref)  \\\n",
              "0   Unbelievably bad\", zeitgeist,and Disney costs ...      1.713888   \n",
              "1   I totally got drawn to this story by the utter...      0.161091   \n",
              "2             Some people say this is a two years old      0.127195   \n",
              "3   Jim Belushi makes me completely not interested...      2.132497   \n",
              "4   I've heard people who can't understand this pr...      0.469027   \n",
              "5   \"And the time came when the village couldn't y...      0.393636   \n",
              "6   the lowest score possible is one against a cel...      1.189229   \n",
              "7   One of my best films ever. I was used to watch...      2.555967   \n",
              "8   i bought this movie and enlivened the beginnin...      2.240232   \n",
              "9   What in God's name are we supposed to say abou...      0.492011   \n",
              "10  After watching this on reality TV at the same ...      0.990403   \n",
              "11                      It seems more to me else than     -0.028742   \n",
              "12  Or released on DVD or screened on video on T&A...      2.335673   \n",
              "13  Tim Krabbe is the funny and lovely actor.<|end...      2.110360   \n",
              "14  This 1998 film was based on an original screen...      0.298362   \n",
              "15              FLIGHT OF FURY 2 STAR TREK is as good      1.997381   \n",
              "\n",
              "                                       response (PPO)  scores (PPO)  \\\n",
              "0   Unbelievably bad film, a logical highlight of ...      1.630138   \n",
              "1   I totally got drawn this time. It's a good act...      2.551127   \n",
              "2      Some people say this comment is wonderful, and      2.618011   \n",
              "3          Jim Belfort is a very good actress. She is      2.261828   \n",
              "4   I've heard people who follow this movie very w...      2.286180   \n",
              "5   \"And the time came when the Silver Keys went b...      0.936659   \n",
              "6   the lowest score possible is \"An Independent\" ...      2.503858   \n",
              "7   One of my best films ever. I loved it. It's La...      2.833558   \n",
              "8   i bought this very good musical by the end. Th...      2.703946   \n",
              "9   What in God's name was so memorable that I kne...      1.999556   \n",
              "10  After watching this on television two years la...      1.388127   \n",
              "11                    It seems more than that the Hat      0.613672   \n",
              "12  Or released on DVD or screened on entertainmen...      2.407975   \n",
              "13  Tim Krabbe is the hero who persuates Jenny Gei...      1.786893   \n",
              "14  This 1998 film was based on several published ...      1.166864   \n",
              "15        FLIGHT OF FURTHER INDIA is a very good film      2.698903   \n",
              "\n",
              "                                   response (best_of)  scores (best_of)  \n",
              "0   Unbelievably bad bad)The script is stupidimmed...          2.419863  \n",
              "1        I totally got drawn in by him a lot.\"<br /><          1.987900  \n",
              "2           Some people say this is the worst film of          2.393284  \n",
              "3          Jim Belushi's widow Moira adds to the star          1.230278  \n",
              "4   I've heard people who came here from to Americ...          1.322877  \n",
              "5   \"And the time came when the Capistrano was pre...          0.882598  \n",
              "6   the lowest score possible is probably \"See You...          1.088061  \n",
              "7   One of my best films ever because I can recall...          2.814593  \n",
              "8   i bought this film because it is a masterpiece...          2.565685  \n",
              "9   What in God's name was such a bad movie?<|endo...          2.299718  \n",
              "10   After watching this on my cable with my sharp z-          1.124838  \n",
              "11                  It seems more cramped, more press          1.280126  \n",
              "12  Or released on DVD or screened on regional sat...          0.566263  \n",
              "13  Tim Krabbe is the always excellent Meek Mill, ...          2.441195  \n",
              "14     This 1998 film was based on a true story. They          2.081683  \n",
              "15  FLIGHT OF FURY. Taken together the countless l...          2.523943  "
            ],
            "text/html": [
              "\n",
              "  <div id=\"df-131ddcb2-f80e-447f-ad71-352ddc7baaf2\">\n",
              "    <div class=\"colab-df-container\">\n",
              "      <div>\n",
              "<style scoped>\n",
              "    .dataframe tbody tr th:only-of-type {\n",
              "        vertical-align: middle;\n",
              "    }\n",
              "\n",
              "    .dataframe tbody tr th {\n",
              "        vertical-align: top;\n",
              "    }\n",
              "\n",
              "    .dataframe thead th {\n",
              "        text-align: right;\n",
              "    }\n",
              "</style>\n",
              "<table border=\"1\" class=\"dataframe\">\n",
              "  <thead>\n",
              "    <tr style=\"text-align: right;\">\n",
              "      <th></th>\n",
              "      <th>query</th>\n",
              "      <th>response (ref)</th>\n",
              "      <th>scores (ref)</th>\n",
              "      <th>response (PPO)</th>\n",
              "      <th>scores (PPO)</th>\n",
              "      <th>response (best_of)</th>\n",
              "      <th>scores (best_of)</th>\n",
              "    </tr>\n",
              "  </thead>\n",
              "  <tbody>\n",
              "    <tr>\n",
              "      <th>0</th>\n",
              "      <td>Unbelievably bad</td>\n",
              "      <td>Unbelievably bad\", zeitgeist,and Disney costs ...</td>\n",
              "      <td>1.713888</td>\n",
              "      <td>Unbelievably bad film, a logical highlight of ...</td>\n",
              "      <td>1.630138</td>\n",
              "      <td>Unbelievably bad bad)The script is stupidimmed...</td>\n",
              "      <td>2.419863</td>\n",
              "    </tr>\n",
              "    <tr>\n",
              "      <th>1</th>\n",
              "      <td>I totally got drawn</td>\n",
              "      <td>I totally got drawn to this story by the utter...</td>\n",
              "      <td>0.161091</td>\n",
              "      <td>I totally got drawn this time. It's a good act...</td>\n",
              "      <td>2.551127</td>\n",
              "      <td>I totally got drawn in by him a lot.\"&lt;br /&gt;&lt;</td>\n",
              "      <td>1.987900</td>\n",
              "    </tr>\n",
              "    <tr>\n",
              "      <th>2</th>\n",
              "      <td>Some people say this</td>\n",
              "      <td>Some people say this is a two years old</td>\n",
              "      <td>0.127195</td>\n",
              "      <td>Some people say this comment is wonderful, and</td>\n",
              "      <td>2.618011</td>\n",
              "      <td>Some people say this is the worst film of</td>\n",
              "      <td>2.393284</td>\n",
              "    </tr>\n",
              "    <tr>\n",
              "      <th>3</th>\n",
              "      <td>Jim Bel</td>\n",
              "      <td>Jim Belushi makes me completely not interested...</td>\n",
              "      <td>2.132497</td>\n",
              "      <td>Jim Belfort is a very good actress. She is</td>\n",
              "      <td>2.261828</td>\n",
              "      <td>Jim Belushi's widow Moira adds to the star</td>\n",
              "      <td>1.230278</td>\n",
              "    </tr>\n",
              "    <tr>\n",
              "      <th>4</th>\n",
              "      <td>I've heard people who</td>\n",
              "      <td>I've heard people who can't understand this pr...</td>\n",
              "      <td>0.469027</td>\n",
              "      <td>I've heard people who follow this movie very w...</td>\n",
              "      <td>2.286180</td>\n",
              "      <td>I've heard people who came here from to Americ...</td>\n",
              "      <td>1.322877</td>\n",
              "    </tr>\n",
              "    <tr>\n",
              "      <th>5</th>\n",
              "      <td>\"And the time came when the</td>\n",
              "      <td>\"And the time came when the village couldn't y...</td>\n",
              "      <td>0.393636</td>\n",
              "      <td>\"And the time came when the Silver Keys went b...</td>\n",
              "      <td>0.936659</td>\n",
              "      <td>\"And the time came when the Capistrano was pre...</td>\n",
              "      <td>0.882598</td>\n",
              "    </tr>\n",
              "    <tr>\n",
              "      <th>6</th>\n",
              "      <td>the lowest score possible is</td>\n",
              "      <td>the lowest score possible is one against a cel...</td>\n",
              "      <td>1.189229</td>\n",
              "      <td>the lowest score possible is \"An Independent\" ...</td>\n",
              "      <td>2.503858</td>\n",
              "      <td>the lowest score possible is probably \"See You...</td>\n",
              "      <td>1.088061</td>\n",
              "    </tr>\n",
              "    <tr>\n",
              "      <th>7</th>\n",
              "      <td>One of my best films ever</td>\n",
              "      <td>One of my best films ever. I was used to watch...</td>\n",
              "      <td>2.555967</td>\n",
              "      <td>One of my best films ever. I loved it. It's La...</td>\n",
              "      <td>2.833558</td>\n",
              "      <td>One of my best films ever because I can recall...</td>\n",
              "      <td>2.814593</td>\n",
              "    </tr>\n",
              "    <tr>\n",
              "      <th>8</th>\n",
              "      <td>i bought this</td>\n",
              "      <td>i bought this movie and enlivened the beginnin...</td>\n",
              "      <td>2.240232</td>\n",
              "      <td>i bought this very good musical by the end. Th...</td>\n",
              "      <td>2.703946</td>\n",
              "      <td>i bought this film because it is a masterpiece...</td>\n",
              "      <td>2.565685</td>\n",
              "    </tr>\n",
              "    <tr>\n",
              "      <th>9</th>\n",
              "      <td>What in God's name</td>\n",
              "      <td>What in God's name are we supposed to say abou...</td>\n",
              "      <td>0.492011</td>\n",
              "      <td>What in God's name was so memorable that I kne...</td>\n",
              "      <td>1.999556</td>\n",
              "      <td>What in God's name was such a bad movie?&lt;|endo...</td>\n",
              "      <td>2.299718</td>\n",
              "    </tr>\n",
              "    <tr>\n",
              "      <th>10</th>\n",
              "      <td>After watching this on</td>\n",
              "      <td>After watching this on reality TV at the same ...</td>\n",
              "      <td>0.990403</td>\n",
              "      <td>After watching this on television two years la...</td>\n",
              "      <td>1.388127</td>\n",
              "      <td>After watching this on my cable with my sharp z-</td>\n",
              "      <td>1.124838</td>\n",
              "    </tr>\n",
              "    <tr>\n",
              "      <th>11</th>\n",
              "      <td>It seems more</td>\n",
              "      <td>It seems more to me else than</td>\n",
              "      <td>-0.028742</td>\n",
              "      <td>It seems more than that the Hat</td>\n",
              "      <td>0.613672</td>\n",
              "      <td>It seems more cramped, more press</td>\n",
              "      <td>1.280126</td>\n",
              "    </tr>\n",
              "    <tr>\n",
              "      <th>12</th>\n",
              "      <td>Or released on DVD or screened on</td>\n",
              "      <td>Or released on DVD or screened on video on T&amp;A...</td>\n",
              "      <td>2.335673</td>\n",
              "      <td>Or released on DVD or screened on entertainmen...</td>\n",
              "      <td>2.407975</td>\n",
              "      <td>Or released on DVD or screened on regional sat...</td>\n",
              "      <td>0.566263</td>\n",
              "    </tr>\n",
              "    <tr>\n",
              "      <th>13</th>\n",
              "      <td>Tim Krabbe is the</td>\n",
              "      <td>Tim Krabbe is the funny and lovely actor.&lt;|end...</td>\n",
              "      <td>2.110360</td>\n",
              "      <td>Tim Krabbe is the hero who persuates Jenny Gei...</td>\n",
              "      <td>1.786893</td>\n",
              "      <td>Tim Krabbe is the always excellent Meek Mill, ...</td>\n",
              "      <td>2.441195</td>\n",
              "    </tr>\n",
              "    <tr>\n",
              "      <th>14</th>\n",
              "      <td>This 1998 film was based on</td>\n",
              "      <td>This 1998 film was based on an original screen...</td>\n",
              "      <td>0.298362</td>\n",
              "      <td>This 1998 film was based on several published ...</td>\n",
              "      <td>1.166864</td>\n",
              "      <td>This 1998 film was based on a true story. They</td>\n",
              "      <td>2.081683</td>\n",
              "    </tr>\n",
              "    <tr>\n",
              "      <th>15</th>\n",
              "      <td>FLIGHT OF FUR</td>\n",
              "      <td>FLIGHT OF FURY 2 STAR TREK is as good</td>\n",
              "      <td>1.997381</td>\n",
              "      <td>FLIGHT OF FURTHER INDIA is a very good film</td>\n",
              "      <td>2.698903</td>\n",
              "      <td>FLIGHT OF FURY. Taken together the countless l...</td>\n",
              "      <td>2.523943</td>\n",
              "    </tr>\n",
              "  </tbody>\n",
              "</table>\n",
              "</div>\n",
              "      <button class=\"colab-df-convert\" onclick=\"convertToInteractive('df-131ddcb2-f80e-447f-ad71-352ddc7baaf2')\"\n",
              "              title=\"Convert this dataframe to an interactive table.\"\n",
              "              style=\"display:none;\">\n",
              "        \n",
              "  <svg xmlns=\"http://www.w3.org/2000/svg\" height=\"24px\"viewBox=\"0 0 24 24\"\n",
              "       width=\"24px\">\n",
              "    <path d=\"M0 0h24v24H0V0z\" fill=\"none\"/>\n",
              "    <path d=\"M18.56 5.44l.94 2.06.94-2.06 2.06-.94-2.06-.94-.94-2.06-.94 2.06-2.06.94zm-11 1L8.5 8.5l.94-2.06 2.06-.94-2.06-.94L8.5 2.5l-.94 2.06-2.06.94zm10 10l.94 2.06.94-2.06 2.06-.94-2.06-.94-.94-2.06-.94 2.06-2.06.94z\"/><path d=\"M17.41 7.96l-1.37-1.37c-.4-.4-.92-.59-1.43-.59-.52 0-1.04.2-1.43.59L10.3 9.45l-7.72 7.72c-.78.78-.78 2.05 0 2.83L4 21.41c.39.39.9.59 1.41.59.51 0 1.02-.2 1.41-.59l7.78-7.78 2.81-2.81c.8-.78.8-2.07 0-2.86zM5.41 20L4 18.59l7.72-7.72 1.47 1.35L5.41 20z\"/>\n",
              "  </svg>\n",
              "      </button>\n",
              "      \n",
              "  <style>\n",
              "    .colab-df-container {\n",
              "      display:flex;\n",
              "      flex-wrap:wrap;\n",
              "      gap: 12px;\n",
              "    }\n",
              "\n",
              "    .colab-df-convert {\n",
              "      background-color: #E8F0FE;\n",
              "      border: none;\n",
              "      border-radius: 50%;\n",
              "      cursor: pointer;\n",
              "      display: none;\n",
              "      fill: #1967D2;\n",
              "      height: 32px;\n",
              "      padding: 0 0 0 0;\n",
              "      width: 32px;\n",
              "    }\n",
              "\n",
              "    .colab-df-convert:hover {\n",
              "      background-color: #E2EBFA;\n",
              "      box-shadow: 0px 1px 2px rgba(60, 64, 67, 0.3), 0px 1px 3px 1px rgba(60, 64, 67, 0.15);\n",
              "      fill: #174EA6;\n",
              "    }\n",
              "\n",
              "    [theme=dark] .colab-df-convert {\n",
              "      background-color: #3B4455;\n",
              "      fill: #D2E3FC;\n",
              "    }\n",
              "\n",
              "    [theme=dark] .colab-df-convert:hover {\n",
              "      background-color: #434B5C;\n",
              "      box-shadow: 0px 1px 3px 1px rgba(0, 0, 0, 0.15);\n",
              "      filter: drop-shadow(0px 1px 2px rgba(0, 0, 0, 0.3));\n",
              "      fill: #FFFFFF;\n",
              "    }\n",
              "  </style>\n",
              "\n",
              "      <script>\n",
              "        const buttonEl =\n",
              "          document.querySelector('#df-131ddcb2-f80e-447f-ad71-352ddc7baaf2 button.colab-df-convert');\n",
              "        buttonEl.style.display =\n",
              "          google.colab.kernel.accessAllowed ? 'block' : 'none';\n",
              "\n",
              "        async function convertToInteractive(key) {\n",
              "          const element = document.querySelector('#df-131ddcb2-f80e-447f-ad71-352ddc7baaf2');\n",
              "          const dataTable =\n",
              "            await google.colab.kernel.invokeFunction('convertToInteractive',\n",
              "                                                     [key], {});\n",
              "          if (!dataTable) return;\n",
              "\n",
              "          const docLinkHtml = 'Like what you see? Visit the ' +\n",
              "            '<a target=\"_blank\" href=https://colab.research.google.com/notebooks/data_table.ipynb>data table notebook</a>'\n",
              "            + ' to learn more about interactive tables.';\n",
              "          element.innerHTML = '';\n",
              "          dataTable['output_type'] = 'display_data';\n",
              "          await google.colab.output.renderOutput(dataTable, element);\n",
              "          const docLink = document.createElement('div');\n",
              "          docLink.innerHTML = docLinkHtml;\n",
              "          element.appendChild(docLink);\n",
              "        }\n",
              "      </script>\n",
              "    </div>\n",
              "  </div>\n",
              "  "
            ]
          },
          "metadata": {},
          "execution_count": 10
        }
      ]
    }
  ]
}